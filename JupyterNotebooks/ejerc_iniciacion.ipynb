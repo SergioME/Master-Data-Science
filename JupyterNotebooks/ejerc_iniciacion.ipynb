{
 "cells": [
  {
   "cell_type": "markdown",
   "metadata": {},
   "source": [
    "## Quick Exercises 1\n",
    "\n",
    "\n",
    "1. Implement a function that takes as input three variables, and returns the largest of the three. Do\n",
    "this without using the Python max() function! Make one version without any local variable and\n",
    "another with one local variable. \n",
    "\n",
    "2. Write a function “centenario” that will take Name, and year of birth as inputs, check if year of birth\n",
    "is int and cast it to int if not, and print name together with the text explaining when the person is to\n",
    "have 100 years (hint: use isinstance)\n",
    "\n",
    "call to function:\n",
    "centenario(Antonio, 1967)\n",
    "\n",
    "output:\n",
    "Antonio will reach 100 years in 2067"
   ]
  },
  {
   "cell_type": "code",
   "execution_count": 5,
   "metadata": {},
   "outputs": [],
   "source": [
    "#1\n",
    "\n",
    "def num_max (a,b,c):\n",
    "    if a>b:\n",
    "        if a>c:\n",
    "            return a\n",
    "    else:\n",
    "        if b>c:\n",
    "            return b\n",
    "        else:\n",
    "            return c"
   ]
  },
  {
   "cell_type": "code",
   "execution_count": 11,
   "metadata": {},
   "outputs": [
    {
     "data": {
      "text/plain": [
       "8"
      ]
     },
     "execution_count": 11,
     "metadata": {},
     "output_type": "execute_result"
    }
   ],
   "source": [
    "num_max (8,4,6)"
   ]
  },
  {
   "cell_type": "code",
   "execution_count": 31,
   "metadata": {
    "scrolled": true
   },
   "outputs": [],
   "source": [
    "#2 \n",
    "def cien_años (nombre, year):\n",
    "        nombre = nombre\n",
    "        year=int(year)\n",
    "        return \"%s will reach 100 years in %d\" % (nombre, year+100)\n",
    "    "
   ]
  },
  {
   "cell_type": "code",
   "execution_count": 35,
   "metadata": {},
   "outputs": [
    {
     "data": {
      "text/plain": [
       "'antonio will reach 100 years in 2067'"
      ]
     },
     "execution_count": 35,
     "metadata": {},
     "output_type": "execute_result"
    }
   ],
   "source": [
    "cien_años (\"antonio\", 1967)"
   ]
  },
  {
   "cell_type": "markdown",
   "metadata": {},
   "source": [
    "## Quick Exercises 3\n",
    "1. While inside python, go to ~/Data/opentraveldata/ and list the files. Repeat the same for\n",
    "/home/dsc/Data/us_dot/otp and ~/Data/us_dot/traffic/.\n",
    "Use the list of visited directories from dhist and write for loop which will return for each visited\n",
    "directory its name and number of files inside."
   ]
  },
  {
   "cell_type": "code",
   "execution_count": 58,
   "metadata": {},
   "outputs": [
    {
     "name": "stdout",
     "output_type": "stream",
     "text": [
      "/home/dsc/Data/opentraveldata\n",
      "/home/dsc/Data/us_dot/otp\n",
      "/home/dsc/Data/us_dot/traffic\n"
     ]
    }
   ],
   "source": [
    "%cd /home/dsc/Data/opentraveldata/\n",
    "%cd /home/dsc/Data/us_dot/otp/\n",
    "%cd /home/dsc/Data/us_dot/traffic/"
   ]
  },
  {
   "cell_type": "code",
   "execution_count": 62,
   "metadata": {},
   "outputs": [
    {
     "name": "stdout",
     "output_type": "stream",
     "text": [
      "/home/dsc   26\n",
      "/home/dsc/Data/opentraveldata   4\n",
      "/home/dsc/Data/us_dot/otp   12\n",
      "/home/dsc/Data/opentraveldata   4\n",
      "/home/dsc/Data/us_dot/otp   12\n",
      "/home/dsc/Data/us_dot/traffic   2\n"
     ]
    }
   ],
   "source": [
    "for d in _dh:\n",
    "    a= !ls $d\n",
    "    print(d, \" \", len(a) )"
   ]
  },
  {
   "cell_type": "markdown",
   "metadata": {},
   "source": [
    "2 Write a function that will take text file and pattern as input parameters, and return the number of\n",
    "occurances of case insensitive pattern inside a text (similar to: grep -i –o pattern file | wc -l)"
   ]
  },
  {
   "cell_type": "code",
   "execution_count": 84,
   "metadata": {},
   "outputs": [],
   "source": [
    "fichero=open(\"/home/dsc/Downloads/finn.txt\", encoding='latin-1')"
   ]
  },
  {
   "cell_type": "code",
   "execution_count": 85,
   "metadata": {},
   "outputs": [],
   "source": [
    "a = fichero.read()"
   ]
  },
  {
   "cell_type": "code",
   "execution_count": 86,
   "metadata": {},
   "outputs": [],
   "source": [
    "def find_it(file_name, word):\n",
    "    f4 = open(file_name, encoding = \"latin-1\")\n",
    "    content=f4.read().lower\n",
    "    return content.count(word.lower())\n"
   ]
  },
  {
   "cell_type": "markdown",
   "metadata": {},
   "source": [
    "3 Open Finn.txt file, read lines into a list. Remove trailing white spaces from each line . Write the\n",
    "resulting list to the new file. How many lines does the new file have? (hint: empty list is made with [\n",
    "] )"
   ]
  },
  {
   "cell_type": "code",
   "execution_count": 89,
   "metadata": {},
   "outputs": [],
   "source": [
    "fichero=open(\"/home/dsc/Downloads/finn.txt\", encoding='latin-1')\n",
    "texto = fichero.read()\n",
    "lineas = texto.splitlines()"
   ]
  },
  {
   "cell_type": "code",
   "execution_count": 90,
   "metadata": {},
   "outputs": [
    {
     "data": {
      "text/plain": [
       "10009"
      ]
     },
     "execution_count": 90,
     "metadata": {},
     "output_type": "execute_result"
    }
   ],
   "source": [
    "final = \"\"\n",
    "for linea in lineas:\n",
    "    if len(linea.strip())!=0:\n",
    "        final=final+\"\\n\"+linea.strip()\n",
    "\n",
    "\n",
    "len(lineas)"
   ]
  },
  {
   "cell_type": "markdown",
   "metadata": {},
   "source": [
    "## Quick Exercises 4\n",
    "1. For a sequence [1, 2, 3, 4, 5, 6, 7, 8 ] get the squared values using the lambda function."
   ]
  },
  {
   "cell_type": "code",
   "execution_count": 91,
   "metadata": {},
   "outputs": [],
   "source": [
    "secuencia = [1,2,3,4,5,6,7,8]"
   ]
  },
  {
   "cell_type": "code",
   "execution_count": 92,
   "metadata": {},
   "outputs": [
    {
     "data": {
      "text/plain": [
       "<map at 0x7fb838fa2c18>"
      ]
     },
     "execution_count": 92,
     "metadata": {},
     "output_type": "execute_result"
    }
   ],
   "source": [
    "map(lambda b: b**2, secuencia)"
   ]
  },
  {
   "cell_type": "code",
   "execution_count": 93,
   "metadata": {},
   "outputs": [
    {
     "data": {
      "text/plain": [
       "[1, 4, 9, 16, 25, 36, 49, 64]"
      ]
     },
     "execution_count": 93,
     "metadata": {},
     "output_type": "execute_result"
    }
   ],
   "source": [
    "list(map(lambda b : b**2,secuencia))"
   ]
  },
  {
   "cell_type": "markdown",
   "metadata": {},
   "source": [
    "2 Prepare a list with 10 names. Make a code that will put all vowels to capitals and every other\n",
    "character to lower letters."
   ]
  },
  {
   "cell_type": "code",
   "execution_count": null,
   "metadata": {},
   "outputs": [],
   "source": [
    "nombres= [\"sergio\"]\n"
   ]
  },
  {
   "cell_type": "code",
   "execution_count": 96,
   "metadata": {},
   "outputs": [],
   "source": [
    "#bucle\n",
    "def ponmayus (nombre):\n",
    "    res=\"\"\n",
    "    for letra in nombre:\n",
    "        if letra in [\"a\", \"e\", \"i\", \"o\",\"u\"]:\n",
    "            rest = res+letra.upper()\n",
    "        else:\n",
    "            res=res+letra.lower()\n",
    "    return res"
   ]
  },
  {
   "cell_type": "code",
   "execution_count": 98,
   "metadata": {},
   "outputs": [
    {
     "data": {
      "text/plain": [
       "'hl'"
      ]
     },
     "execution_count": 98,
     "metadata": {},
     "output_type": "execute_result"
    }
   ],
   "source": [
    "ponmayus(\"hola\")"
   ]
  },
  {
   "cell_type": "markdown",
   "metadata": {},
   "source": [
    "## Quick Excercises 5\n",
    "\n",
    "\n",
    "2 Sort a collection of strings by the number of distinct letters in each string. (hint: use set and lambda)\n",
    "\n",
    "\n"
   ]
  },
  {
   "cell_type": "code",
   "execution_count": 114,
   "metadata": {},
   "outputs": [
    {
     "data": {
      "text/plain": [
       "['mundo', 'hola', 'hoy', 'es']"
      ]
     },
     "execution_count": 114,
     "metadata": {},
     "output_type": "execute_result"
    }
   ],
   "source": [
    "\n",
    "lista= [\"hola\", \"mundo\", \"es\" , \"hoy\"]\n",
    "\n",
    "sorted(lista, key=lambda e: len(set(e.lower())), reverse=True)"
   ]
  },
  {
   "cell_type": "code",
   "execution_count": null,
   "metadata": {},
   "outputs": [],
   "source": []
  }
 ],
 "metadata": {
  "kernelspec": {
   "display_name": "Python 3",
   "language": "python",
   "name": "python3"
  },
  "language_info": {
   "codemirror_mode": {
    "name": "ipython",
    "version": 3
   },
   "file_extension": ".py",
   "mimetype": "text/x-python",
   "name": "python",
   "nbconvert_exporter": "python",
   "pygments_lexer": "ipython3",
   "version": "3.6.4"
  }
 },
 "nbformat": 4,
 "nbformat_minor": 2
}
