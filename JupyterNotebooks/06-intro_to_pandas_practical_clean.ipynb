{
 "cells": [
  {
   "cell_type": "markdown",
   "metadata": {},
   "source": [
    "A practical introduction to Pandas\n",
    "==================="
   ]
  },
  {
   "cell_type": "markdown",
   "metadata": {},
   "source": [
    "We have been asked to *analyze an otp dataset*, without much more information. This kind of scenario is more common than you might imagine!\n",
    "\n",
    "## 1) Quickly examine the files in ~/Data/us_dot/otp. What do they contain, in both technical and functional terms? (Use any tool you want)"
   ]
  },
  {
   "cell_type": "code",
   "execution_count": 4,
   "metadata": {},
   "outputs": [
    {
     "name": "stdout",
     "output_type": "stream",
     "text": [
      "/home/dsc/Desktop/Master_data_science/dia5\r\n"
     ]
    }
   ],
   "source": [
    "#donde estamos ruta?\n",
    "! pwd"
   ]
  },
  {
   "cell_type": "code",
   "execution_count": 5,
   "metadata": {
    "scrolled": false
   },
   "outputs": [
    {
     "name": "stdout",
     "output_type": "stream",
     "text": [
      "04-group_by_clean.ipynb\r\n",
      "05-visualization_introduction_clean.ipynb\r\n",
      "06-intro_to_pandas_practical_clean.ipynb\r\n",
      "On_Time_On_Time_Performance_2015_1.zip\r\n",
      "On_Time_On_Time_Performance_2015_2.zip\r\n",
      "On_Time_On_Time_Performance_2015_3.zip\r\n",
      "On_Time_On_Time_Performance_2015_4.zip\r\n",
      "On_Time_On_Time_Performance_2015_5.zip\r\n",
      "On_Time_On_Time_Performance_2015_6.zip\r\n",
      "On_Time_On_Time_Performance_2015_7.zip\r\n",
      "On_Time_On_Time_Performance_2015_8.zip\r\n",
      "plot_ex.png\r\n",
      "readme.html\r\n",
      "scatter_ex.png\r\n",
      "tips(1).csv\r\n",
      "tips.csv\r\n"
     ]
    }
   ],
   "source": [
    "#archivos que hay\n",
    "! ls"
   ]
  },
  {
   "cell_type": "code",
   "execution_count": 6,
   "metadata": {},
   "outputs": [],
   "source": [
    "#crear carpeta  ejem\n",
    "# !mkdir data/us_dot/otp\n",
    "\n",
    "#para mover los archivos o copy\n",
    "\n",
    "#! cp -R /Data/us_dot/otp/On_time*   ./Data....(donde queramos copiar)\n",
    "#! mv /Data/us_dot/otp/On_time*   ./Data....(donde queramos copiar)"
   ]
  },
  {
   "cell_type": "code",
   "execution_count": 7,
   "metadata": {},
   "outputs": [],
   "source": [
    "#guardar en una variable la ruta donde estan mis archivos\n",
    "# ~ con alt gr y 4\n",
    "path_to_zips = '~/Data/us_dot/otp/'"
   ]
  },
  {
   "cell_type": "code",
   "execution_count": 8,
   "metadata": {},
   "outputs": [
    {
     "name": "stdout",
     "output_type": "stream",
     "text": [
      "fichero.hist\t\t\t\tOn_Time_On_Time_Performance_2015_6.zip\r\n",
      "On_Time_On_Time_Performance_2015_1.zip\tOn_Time_On_Time_Performance_2015_7.zip\r\n",
      "On_Time_On_Time_Performance_2015_2.zip\tOn_Time_On_Time_Performance_2015_8.zip\r\n",
      "On_Time_On_Time_Performance_2015_3.zip\tText_example\r\n",
      "On_Time_On_Time_Performance_2015_4.zip\tthree_largest_file.txt\r\n",
      "On_Time_On_Time_Performance_2015_5.zip\tthre_largest_file.txt\r\n"
     ]
    }
   ],
   "source": [
    "! ls {path_to_zips} "
   ]
  },
  {
   "cell_type": "markdown",
   "metadata": {},
   "source": [
    "For this example, we are going to begin using the shell from within this notebook, with the ! notation:\n",
    "\n",
    "A ! sign before a line tells the notebook to send that line straight away to the underlying OS. \n",
    "\n",
    "\\* Note that we can substitute python variables into the shell command. We do that by surrounding the name of the variable with curly braces ({}). That's what we are going to do with the `path_to_files` variable"
   ]
  },
  {
   "cell_type": "markdown",
   "metadata": {},
   "source": [
    "### Check what the files contain"
   ]
  },
  {
   "cell_type": "code",
   "execution_count": 9,
   "metadata": {},
   "outputs": [],
   "source": [
    "#unzip  -l , lee el contenido que le indiquemos"
   ]
  },
  {
   "cell_type": "code",
   "execution_count": 10,
   "metadata": {
    "scrolled": true
   },
   "outputs": [
    {
     "name": "stdout",
     "output_type": "stream",
     "text": [
      "Archive:  /home/dsc/Data/us_dot/otp/On_Time_On_Time_Performance_2015_1.zip\r\n",
      "  Length      Date    Time    Name\r\n",
      "---------  ---------- -----   ----\r\n",
      "211633432  2015-04-16 20:02   On_Time_On_Time_Performance_2015_1.csv\r\n",
      "    12054  2015-04-16 20:02   readme.html\r\n",
      "---------                     -------\r\n",
      "211645486                     2 files\r\n"
     ]
    }
   ],
   "source": [
    "! unzip -l {path_to_zips}On_Time_On_Time_Performance_2015_1.zip"
   ]
  },
  {
   "cell_type": "markdown",
   "metadata": {},
   "source": [
    "Oh, it has a readme! Always good to read it."
   ]
  },
  {
   "cell_type": "markdown",
   "metadata": {},
   "source": [
    "### Unzip the readme to the current directory\n",
    "\n",
    "Use the shell\n",
    "\n",
    "Remember, since the zip file contains several compressed files, we need to specify which one we want."
   ]
  },
  {
   "cell_type": "code",
   "execution_count": 11,
   "metadata": {},
   "outputs": [],
   "source": [
    "#extraer el -o readme\n",
    "# que me guarde el readme en -d $ (pwd)   en la misma ruta"
   ]
  },
  {
   "cell_type": "code",
   "execution_count": 12,
   "metadata": {
    "scrolled": false
   },
   "outputs": [
    {
     "name": "stdout",
     "output_type": "stream",
     "text": [
      "Archive:  /home/dsc/Data/us_dot/otp/On_Time_On_Time_Performance_2015_1.zip\r\n",
      "  inflating: /home/dsc/Desktop/Master_data_science/dia5/readme.html  \r\n"
     ]
    }
   ],
   "source": [
    "! unzip -o {path_to_zips}On_Time_On_Time_Performance_2015_1.zip readme.html -d $(pwd)"
   ]
  },
  {
   "cell_type": "code",
   "execution_count": 13,
   "metadata": {
    "scrolled": true
   },
   "outputs": [
    {
     "name": "stdout",
     "output_type": "stream",
     "text": [
      "total 191244\r\n",
      "-rw-r--r-- 1 dsc dsc    12054 abr 16  2015 readme.html\r\n",
      "-rw-r--r-- 1 dsc dsc    17393 abr 19 19:58 plot_ex.png\r\n",
      "-rw-r--r-- 1 dsc dsc   115758 abr 19 19:58 scatter_ex.png\r\n",
      "-rw-r--r-- 1 dsc dsc     7943 abr 19 19:59 tips(1).csv\r\n",
      "-rw-r--r-- 1 dsc dsc 23061340 abr 19 20:00 On_Time_On_Time_Performance_2015_1.zip\r\n",
      "-rw-r--r-- 1 dsc dsc 21230105 abr 19 20:00 On_Time_On_Time_Performance_2015_2.zip\r\n",
      "-rw-r--r-- 1 dsc dsc 24811186 abr 19 20:00 On_Time_On_Time_Performance_2015_3.zip\r\n",
      "-rw-r--r-- 1 dsc dsc 23625261 abr 19 20:00 On_Time_On_Time_Performance_2015_4.zip\r\n",
      "-rw-r--r-- 1 dsc dsc 24334057 abr 19 20:00 On_Time_On_Time_Performance_2015_5.zip\r\n",
      "-rw-r--r-- 1 dsc dsc 25758350 abr 19 20:01 On_Time_On_Time_Performance_2015_6.zip\r\n",
      "-rw-r--r-- 1 dsc dsc 26204213 abr 19 20:01 On_Time_On_Time_Performance_2015_7.zip\r\n",
      "-rw-r--r-- 1 dsc dsc 25726054 abr 19 20:01 On_Time_On_Time_Performance_2015_8.zip\r\n",
      "-rw-r--r-- 1 dsc dsc     7943 abr 20 17:17 tips.csv\r\n",
      "-rw-r--r-- 1 dsc dsc    80437 abr 20 18:21 04-group_by_clean.ipynb\r\n",
      "-rw-r--r-- 1 dsc dsc   772143 abr 20 21:57 05-visualization_introduction_clean.ipynb\r\n",
      "-rw-r--r-- 1 dsc dsc    43515 abr 21 10:10 06-intro_to_pandas_practical_clean.ipynb\r\n"
     ]
    }
   ],
   "source": [
    "! ls -lrt"
   ]
  },
  {
   "cell_type": "markdown",
   "metadata": {},
   "source": [
    "### Take a look at the beginning of the readme file\n",
    "\n",
    "using the shell"
   ]
  },
  {
   "cell_type": "code",
   "execution_count": 14,
   "metadata": {},
   "outputs": [],
   "source": [
    "#leerlo"
   ]
  },
  {
   "cell_type": "code",
   "execution_count": 19,
   "metadata": {},
   "outputs": [
    {
     "name": "stdout",
     "output_type": "stream",
     "text": [
      "<HTML>\r\n",
      "<HEAD>\r\n",
      "\t<TITLE> readme.html </TITLE>\r\n",
      "</HEAD>\r\n",
      "<BODY>\r\n",
      "\t<TABLE><TR><TD COLSPAN=2><H4>BACKGROUND</H4></TD></TR>\r\n",
      "\t<TR><TD COLSPAN=2>The data contained in the compressed file has been extracted from the \r\n",
      "\tOn-Time Performance data table of the \"On-Time\" database from the TranStats data library. \r\n",
      "\tThe time period is indicated in the name of the compressed file; \r\n",
      "\tfor example, XXX_XXXXX_2001_1 contains data of the first month of the year 2001. </TD></TR>\r\n"
     ]
    }
   ],
   "source": [
    "! head readme.html "
   ]
  },
  {
   "cell_type": "code",
   "execution_count": 16,
   "metadata": {},
   "outputs": [
    {
     "name": "stdout",
     "output_type": "stream",
     "text": [
      "<HTML>\r\n",
      "<HEAD>\r\n",
      "\t<TITLE> readme.html </TITLE>\r\n",
      "</HEAD>\r\n",
      "<BODY>\r\n",
      "\t<TABLE><TR><TD COLSPAN=2><H4>BACKGROUND</H4></TD></TR>\r\n",
      "\t<TR><TD COLSPAN=2>The data contained in the compressed file has been extracted from the \r\n",
      "\tOn-Time Performance data table of the \"On-Time\" database from the TranStats data library. \r\n",
      "\tThe time period is indicated in the name of the compressed file; \r\n",
      "\tfor example, XXX_XXXXX_2001_1 contains data of the first month of the year 2001. </TD></TR>\r\n",
      "\t<TR><TD COLSPAN=2>&nbsp;</TD></TR>\r\n",
      "\t<TR><TD COLSPAN=2><H4>RECORD LAYOUT</H4></TD></TR>\r\n",
      "\t<TR><TD COLSPAN=2>Below are fields in the order that they appear on the records:</TD></TR>\r\n",
      "\t<TR><TD>Year</TD><TD>Year</TD></TR>\r\n",
      "\t<TR><TD>Quarter</TD><TD>Quarter (1-4)</TD></TR>\r\n",
      "\t<TR><TD>Month</TD><TD>Month</TD></TR>\r\n",
      "\t<TR><TD>DayofMonth</TD><TD>Day of Month</TD></TR>\r\n",
      "\t<TR><TD>DayOfWeek</TD><TD>Day of Week</TD></TR>\r\n",
      "\t<TR><TD>FlightDate</TD><TD>Flight Date (yyyymmdd)</TD></TR>\r\n",
      "\t<TR><TD>UniqueCarrier</TD><TD>Unique Carrier Code. When the same code has been used by multiple carriers, a numeric suffix is used for earlier users, for example, PA, PA(1), PA(2). Use this field for analysis across a range of years.</TD></TR>\r\n",
      "\t<TR><TD>AirlineID</TD><TD>An identification number assigned by US DOT to identify a unique airline (carrier). A unique airline (carrier) is defined as one holding and reporting under the same DOT certificate regardless of its Code, Name, or holding company/corporation.</TD></TR>\r\n",
      "\t<TR><TD>Carrier</TD><TD>Code assigned by IATA and commonly used to identify a carrier. As the same code may have been assigned to different carriers over time, the code is not always unique. For analysis, use the Unique Carrier Code.</TD></TR>\r\n",
      "\t<TR><TD>TailNum</TD><TD>Tail Number</TD></TR>\r\n",
      "\t<TR><TD>FlightNum</TD><TD>Flight Number</TD></TR>\r\n",
      "\t<TR><TD>OriginAirportID</TD><TD>Origin Airport, Airport ID. An identification number assigned by US DOT to identify a unique airport.  Use this field for airport analysis across a range of years because an airport can change its airport code and airport codes can be reused.</TD></TR>\r\n",
      "\t<TR><TD>OriginAirportSeqID</TD><TD>Origin Airport, Airport Sequence ID. An identification number assigned by US DOT to identify a unique airport at a given point of time.  Airport attributes, such as airport name or coordinates, may change over time.</TD></TR>\r\n",
      "\t<TR><TD>OriginCityMarketID</TD><TD>Origin Airport, City Market ID. City Market ID is an identification number assigned by US DOT to identify a city market.  Use this field to consolidate airports serving the same city market.</TD></TR>\r\n",
      "\t<TR><TD>Origin</TD><TD>Origin Airport</TD></TR>\r\n",
      "\t<TR><TD>OriginCityName</TD><TD>Origin Airport, City Name</TD></TR>\r\n",
      "\t<TR><TD>OriginState</TD><TD>Origin Airport, State Code</TD></TR>\r\n",
      "\t<TR><TD>OriginStateFips</TD><TD>Origin Airport, State Fips</TD></TR>\r\n",
      "\t<TR><TD>OriginStateName</TD><TD>Origin Airport, State Name</TD></TR>\r\n",
      "\t<TR><TD>OriginWac</TD><TD>Origin Airport, World Area Code</TD></TR>\r\n",
      "\t<TR><TD>DestAirportID</TD><TD>Destination Airport, Airport ID. An identification number assigned by US DOT to identify a unique airport.  Use this field for airport analysis across a range of years because an airport can change its airport code and airport codes can be reused.</TD></TR>\r\n",
      "\t<TR><TD>DestAirportSeqID</TD><TD>Destination Airport, Airport Sequence ID. An identification number assigned by US DOT to identify a unique airport at a given point of time.  Airport attributes, such as airport name or coordinates, may change over time.</TD></TR>\r\n",
      "\t<TR><TD>DestCityMarketID</TD><TD>Destination Airport, City Market ID. City Market ID is an identification number assigned by US DOT to identify a city market.  Use this field to consolidate airports serving the same city market.</TD></TR>\r\n",
      "\t<TR><TD>Dest</TD><TD>Destination Airport</TD></TR>\r\n",
      "\t<TR><TD>DestCityName</TD><TD>Destination Airport, City Name</TD></TR>\r\n",
      "\t<TR><TD>DestState</TD><TD>Destination Airport, State Code</TD></TR>\r\n",
      "\t<TR><TD>DestStateFips</TD><TD>Destination Airport, State Fips</TD></TR>\r\n",
      "\t<TR><TD>DestStateName</TD><TD>Destination Airport, State Name</TD></TR>\r\n",
      "\t<TR><TD>DestWac</TD><TD>Destination Airport, World Area Code</TD></TR>\r\n",
      "\t<TR><TD>CRSDepTime</TD><TD>CRS Departure Time (local time: hhmm)</TD></TR>\r\n",
      "\t<TR><TD>DepTime</TD><TD>Actual Departure Time (local time: hhmm)</TD></TR>\r\n",
      "\t<TR><TD>DepDelay</TD><TD>Difference in minutes between scheduled and actual departure time. Early departures show negative numbers.</TD></TR>\r\n",
      "\t<TR><TD>DepDelayMinutes</TD><TD>Difference in minutes between scheduled and actual departure time. Early departures set to 0.</TD></TR>\r\n",
      "\t<TR><TD>DepDel15</TD><TD>Departure Delay Indicator, 15 Minutes or More (1=Yes)</TD></TR>\r\n",
      "\t<TR><TD>DepartureDelayGroups</TD><TD>Departure Delay intervals, every (15 minutes from <-15 to >180)</TD></TR>\r\n",
      "\t<TR><TD>DepTimeBlk</TD><TD>CRS Departure Time Block, Hourly Intervals</TD></TR>\r\n",
      "\t<TR><TD>TaxiOut</TD><TD>Taxi Out Time, in Minutes</TD></TR>\r\n",
      "\t<TR><TD>WheelsOff</TD><TD>Wheels Off Time (local time: hhmm)</TD></TR>\r\n",
      "\t<TR><TD>WheelsOn</TD><TD>Wheels On Time (local time: hhmm)</TD></TR>\r\n",
      "\t<TR><TD>TaxiIn</TD><TD>Taxi In Time, in Minutes</TD></TR>\r\n",
      "\t<TR><TD>CRSArrTime</TD><TD>CRS Arrival Time (local time: hhmm)</TD></TR>\r\n",
      "\t<TR><TD>ArrTime</TD><TD>Actual Arrival Time (local time: hhmm)</TD></TR>\r\n",
      "\t<TR><TD>ArrDelay</TD><TD>Difference in minutes between scheduled and actual arrival time. Early arrivals show negative numbers.</TD></TR>\r\n",
      "\t<TR><TD>ArrDelayMinutes</TD><TD>Difference in minutes between scheduled and actual arrival time. Early arrivals set to 0.</TD></TR>\r\n",
      "\t<TR><TD>ArrDel15</TD><TD>Arrival Delay Indicator, 15 Minutes or More (1=Yes)</TD></TR>\r\n",
      "\t<TR><TD>ArrivalDelayGroups</TD><TD>Arrival Delay intervals, every (15-minutes from <-15 to >180)</TD></TR>\r\n",
      "\t<TR><TD>ArrTimeBlk</TD><TD>CRS Arrival Time Block, Hourly Intervals</TD></TR>\r\n",
      "\t<TR><TD>Cancelled</TD><TD>Cancelled Flight Indicator (1=Yes)</TD></TR>\r\n",
      "\t<TR><TD>CancellationCode</TD><TD>Specifies The Reason For Cancellation</TD></TR>\r\n",
      "\t<TR><TD>Diverted</TD><TD>Diverted Flight Indicator (1=Yes)</TD></TR>\r\n",
      "\t<TR><TD>CRSElapsedTime</TD><TD>CRS Elapsed Time of Flight, in Minutes</TD></TR>\r\n",
      "\t<TR><TD>ActualElapsedTime</TD><TD>Elapsed Time of Flight, in Minutes</TD></TR>\r\n",
      "\t<TR><TD>AirTime</TD><TD>Flight Time, in Minutes</TD></TR>\r\n",
      "\t<TR><TD>Flights</TD><TD>Number of Flights</TD></TR>\r\n",
      "\t<TR><TD>Distance</TD><TD>Distance between airports (miles)</TD></TR>\r\n",
      "\t<TR><TD>DistanceGroup</TD><TD>Distance Intervals, every 250 Miles, for Flight Segment</TD></TR>\r\n",
      "\t<TR><TD>CarrierDelay</TD><TD>Carrier Delay, in Minutes</TD></TR>\r\n",
      "\t<TR><TD>WeatherDelay</TD><TD>Weather Delay, in Minutes</TD></TR>\r\n",
      "\t<TR><TD>NASDelay</TD><TD>National Air System Delay, in Minutes</TD></TR>\r\n",
      "\t<TR><TD>SecurityDelay</TD><TD>Security Delay, in Minutes</TD></TR>\r\n",
      "\t<TR><TD>LateAircraftDelay</TD><TD>Late Aircraft Delay, in Minutes</TD></TR>\r\n",
      "\t<TR><TD>FirstDepTime</TD><TD>First Gate Departure Time at Origin Airport</TD></TR>\r\n",
      "\t<TR><TD>TotalAddGTime</TD><TD>Total Ground Time Away from Gate for Gate Return or Cancelled Flight</TD></TR>\r\n",
      "\t<TR><TD>LongestAddGTime</TD><TD>Longest Time Away from Gate for Gate Return or Cancelled Flight</TD></TR>\r\n",
      "\t<TR><TD>DivAirportLandings</TD><TD>Number of Diverted Airport Landings</TD></TR>\r\n",
      "\t<TR><TD>DivReachedDest</TD><TD>Diverted Flight Reaching Scheduled Destination Indicator (1=Yes)</TD></TR>\r\n",
      "\t<TR><TD>DivActualElapsedTime</TD><TD>Elapsed Time of Diverted Flight Reaching Scheduled Destination, in Minutes.  The ActualElapsedTime column remains NULL for all diverted flights.</TD></TR>\r\n",
      "\t<TR><TD>DivArrDelay</TD><TD>Difference in minutes between scheduled and actual arrival time for a diverted flight reaching scheduled destination.  The ArrDelay column remains NULL for all diverted flights.</TD></TR>\r\n",
      "\t<TR><TD>DivDistance</TD><TD>Distance between scheduled destination and final diverted airport (miles).  Value will be 0 for diverted flight reaching scheduled destination.</TD></TR>\r\n",
      "\t<TR><TD>Div1Airport</TD><TD>Diverted Airport Code1</TD></TR>\r\n",
      "\t<TR><TD>Div1AirportID</TD><TD>Airport ID of Diverted Airport 1. Airport ID is a Unique Key for an Airport</TD></TR>\r\n",
      "\t<TR><TD>Div1AirportSeqID</TD><TD>Airport Sequence ID of Diverted Airport 1. Unique Key for Time Specific Information for an Airport</TD></TR>\r\n",
      "\t<TR><TD>Div1WheelsOn</TD><TD>Wheels On Time (local time: hhmm) at Diverted Airport Code1</TD></TR>\r\n",
      "\t<TR><TD>Div1TotalGTime</TD><TD>Total Ground Time Away from Gate at Diverted Airport Code1</TD></TR>\r\n",
      "\t<TR><TD>Div1LongestGTime</TD><TD>Longest Ground Time Away from Gate at Diverted Airport Code1</TD></TR>\r\n",
      "\t<TR><TD>Div1WheelsOff</TD><TD>Wheels Off Time (local time: hhmm) at Diverted Airport Code1</TD></TR>\r\n",
      "\t<TR><TD>Div1TailNum</TD><TD>Aircraft Tail Number for Diverted Airport Code1</TD></TR>\r\n",
      "\t<TR><TD>Div2Airport</TD><TD>Diverted Airport Code2</TD></TR>\r\n",
      "\t<TR><TD>Div2AirportID</TD><TD>Airport ID of Diverted Airport 2. Airport ID is a Unique Key for an Airport</TD></TR>\r\n",
      "\t<TR><TD>Div2AirportSeqID</TD><TD>Airport Sequence ID of Diverted Airport 2. Unique Key for Time Specific Information for an Airport</TD></TR>\r\n",
      "\t<TR><TD>Div2WheelsOn</TD><TD>Wheels On Time (local time: hhmm) at Diverted Airport Code2</TD></TR>\r\n",
      "\t<TR><TD>Div2TotalGTime</TD><TD>Total Ground Time Away from Gate at Diverted Airport Code2</TD></TR>\r\n",
      "\t<TR><TD>Div2LongestGTime</TD><TD>Longest Ground Time Away from Gate at Diverted Airport Code2</TD></TR>\r\n",
      "\t<TR><TD>Div2WheelsOff</TD><TD>Wheels Off Time (local time: hhmm) at Diverted Airport Code2</TD></TR>\r\n",
      "\t<TR><TD>Div2TailNum</TD><TD>Aircraft Tail Number for Diverted Airport Code2</TD></TR>\r\n",
      "\t<TR><TD>Div3Airport</TD><TD>Diverted Airport Code3</TD></TR>\r\n",
      "\t<TR><TD>Div3AirportID</TD><TD>Airport ID of Diverted Airport 3. Airport ID is a Unique Key for an Airport</TD></TR>\r\n",
      "\t<TR><TD>Div3AirportSeqID</TD><TD>Airport Sequence ID of Diverted Airport 3. Unique Key for Time Specific Information for an Airport</TD></TR>\r\n",
      "\t<TR><TD>Div3WheelsOn</TD><TD>Wheels On Time (local time: hhmm) at Diverted Airport Code3</TD></TR>\r\n",
      "\t<TR><TD>Div3TotalGTime</TD><TD>Total Ground Time Away from Gate at Diverted Airport Code3</TD></TR>\r\n",
      "\t<TR><TD>Div3LongestGTime</TD><TD>Longest Ground Time Away from Gate at Diverted Airport Code3</TD></TR>\r\n",
      "\t<TR><TD>Div3WheelsOff</TD><TD>Wheels Off Time (local time: hhmm) at Diverted Airport Code3</TD></TR>\r\n",
      "\t<TR><TD>Div3TailNum</TD><TD>Aircraft Tail Number for Diverted Airport Code3</TD></TR>\r\n",
      "\t<TR><TD>Div4Airport</TD><TD>Diverted Airport Code4</TD></TR>\r\n",
      "\t<TR><TD>Div4AirportID</TD><TD>Airport ID of Diverted Airport 4. Airport ID is a Unique Key for an Airport</TD></TR>\r\n",
      "\t<TR><TD>Div4AirportSeqID</TD><TD>Airport Sequence ID of Diverted Airport 4. Unique Key for Time Specific Information for an Airport</TD></TR>\r\n",
      "\t<TR><TD>Div4WheelsOn</TD><TD>Wheels On Time (local time: hhmm) at Diverted Airport Code4</TD></TR>\r\n",
      "\t<TR><TD>Div4TotalGTime</TD><TD>Total Ground Time Away from Gate at Diverted Airport Code4</TD></TR>\r\n",
      "\t<TR><TD>Div4LongestGTime</TD><TD>Longest Ground Time Away from Gate at Diverted Airport Code4</TD></TR>\r\n",
      "\t<TR><TD>Div4WheelsOff</TD><TD>Wheels Off Time (local time: hhmm) at Diverted Airport Code4</TD></TR>\r\n",
      "\t<TR><TD>Div4TailNum</TD><TD>Aircraft Tail Number for Diverted Airport Code4</TD></TR>\r\n",
      "\t<TR><TD>Div5Airport</TD><TD>Diverted Airport Code5</TD></TR>\r\n",
      "\t<TR><TD>Div5AirportID</TD><TD>Airport ID of Diverted Airport 5. Airport ID is a Unique Key for an Airport</TD></TR>\r\n",
      "\t<TR><TD>Div5AirportSeqID</TD><TD>Airport Sequence ID of Diverted Airport 5. Unique Key for Time Specific Information for an Airport</TD></TR>\r\n",
      "\t<TR><TD>Div5WheelsOn</TD><TD>Wheels On Time (local time: hhmm) at Diverted Airport Code5</TD></TR>\r\n",
      "\t<TR><TD>Div5TotalGTime</TD><TD>Total Ground Time Away from Gate at Diverted Airport Code5</TD></TR>\r\n",
      "\t<TR><TD>Div5LongestGTime</TD><TD>Longest Ground Time Away from Gate at Diverted Airport Code5</TD></TR>\r\n",
      "\t<TR><TD>Div5WheelsOff</TD><TD>Wheels Off Time (local time: hhmm) at Diverted Airport Code5</TD></TR>\r\n",
      "\t<TR><TD>Div5TailNum</TD><TD>Aircraft Tail Number for Diverted Airport Code5</TD></TR>\r\n",
      "\t</TABLE>\r\n",
      "</BODY>\r\n",
      "</HTML>\r\n"
     ]
    }
   ],
   "source": [
    "! cat readme.html"
   ]
  },
  {
   "cell_type": "markdown",
   "metadata": {},
   "source": [
    "The readme file is html. Luckily, we are working in an html environment. \n",
    "\n",
    "### Display the contents of `readme.html` within the notebook\n",
    "(Hint: check out [IPython.display.IFrame](https://ipython.org/ipython-doc/3/api/generated/IPython.display.html))"
   ]
  },
  {
   "cell_type": "code",
   "execution_count": 17,
   "metadata": {},
   "outputs": [
    {
     "data": {
      "text/html": [
       "\n",
       "        <iframe\n",
       "            width=\"700\"\n",
       "            height=\"350\"\n",
       "            src=\"readme.html\"\n",
       "            frameborder=\"0\"\n",
       "            allowfullscreen\n",
       "        ></iframe>\n",
       "        "
      ],
      "text/plain": [
       "<IPython.lib.display.IFrame at 0x7f4f8c4fedd8>"
      ]
     },
     "execution_count": 17,
     "metadata": {},
     "output_type": "execute_result"
    }
   ],
   "source": [
    "#leerlo de forma mas bonita\n",
    "\n",
    "from IPython.display import IFrame\n",
    "IFrame('readme.html', width=700, height=350)"
   ]
  },
  {
   "cell_type": "markdown",
   "metadata": {},
   "source": [
    "That's some very good documentation!\n",
    "\n",
    "### Summary: \n",
    "\n",
    "The files within the zip are \" quoted csv's. They contain information on timeliness of departures in the US, at the departure level."
   ]
  },
  {
   "cell_type": "code",
   "execution_count": 18,
   "metadata": {
    "scrolled": true
   },
   "outputs": [
    {
     "name": "stdout",
     "output_type": "stream",
     "text": [
      "\"Year\",\"Quarter\",\"Month\",\"DayofMonth\",\"DayOfWeek\",\"FlightDate\",\"UniqueCarrier\",\"AirlineID\",\"Carrier\",\"TailNum\",\"FlightNum\",\"OriginAirportID\",\"OriginAirportSeqID\",\"OriginCityMarketID\",\"Origin\",\"OriginCityName\",\"OriginState\",\"OriginStateFips\",\"OriginStateName\",\"OriginWac\",\"DestAirportID\",\"DestAirportSeqID\",\"DestCityMarketID\",\"Dest\",\"DestCityName\",\"DestState\",\"DestStateFips\",\"DestStateName\",\"DestWac\",\"CRSDepTime\",\"DepTime\",\"DepDelay\",\"DepDelayMinutes\",\"DepDel15\",\"DepartureDelayGroups\",\"DepTimeBlk\",\"TaxiOut\",\"WheelsOff\",\"WheelsOn\",\"TaxiIn\",\"CRSArrTime\",\"ArrTime\",\"ArrDelay\",\"ArrDelayMinutes\",\"ArrDel15\",\"ArrivalDelayGroups\",\"ArrTimeBlk\",\"Cancelled\",\"CancellationCode\",\"Diverted\",\"CRSElapsedTime\",\"ActualElapsedTime\",\"AirTime\",\"Flights\",\"Distance\",\"DistanceGroup\",\"CarrierDelay\",\"WeatherDelay\",\"NASDelay\",\"SecurityDelay\",\"LateAircraftDelay\",\"FirstDepTime\",\"TotalAddGTime\",\"LongestAddGTime\",\"DivAirportLandings\",\"DivReachedDest\",\"DivActualElapsedTime\",\"DivArrDelay\",\"DivDistance\",\"Div1Airport\",\"Div1AirportID\",\"Div1AirportSeqID\",\"Div1WheelsOn\",\"Div1TotalGTime\",\"Div1LongestGTime\",\"Div1WheelsOff\",\"Div1TailNum\",\"Div2Airport\",\"Div2AirportID\",\"Div2AirportSeqID\",\"Div2WheelsOn\",\"Div2TotalGTime\",\"Div2LongestGTime\",\"Div2WheelsOff\",\"Div2TailNum\",\"Div3Airport\",\"Div3AirportID\",\"Div3AirportSeqID\",\"Div3WheelsOn\",\"Div3TotalGTime\",\"Div3LongestGTime\",\"Div3WheelsOff\",\"Div3TailNum\",\"Div4Airport\",\"Div4AirportID\",\"Div4AirportSeqID\",\"Div4WheelsOn\",\"Div4TotalGTime\",\"Div4LongestGTime\",\"Div4WheelsOff\",\"Div4TailNum\",\"Div5Airport\",\"Div5AirportID\",\"Div5AirportSeqID\",\"Div5WheelsOn\",\"Div5TotalGTime\",\"Div5LongestGTime\",\"Div5WheelsOff\",\"Div5TailNum\",\r\n",
      "2015,1,1,1,4,2015-01-01,\"AA\",19805,\"AA\",\"N787AA\",\"1\",12478,1247802,31703,\"JFK\",\"New York, NY\",\"NY\",\"36\",\"New York\",22,12892,1289203,32575,\"LAX\",\"Los Angeles, CA\",\"CA\",\"06\",\"California\",91,\"0900\",\"0855\",-5.00,0.00,0.00,-1,\"0900-0959\",17.00,\"0912\",\"1230\",7.00,\"1230\",\"1237\",7.00,7.00,0.00,0,\"1200-1259\",0.00,\"\",0.00,390.00,402.00,378.00,1.00,2475.00,10,,,,,,\"\",,,0,,,,,\"\",,,\"\",,,\"\",\"\",\"\",,,\"\",,,\"\",\"\",\"\",,,\"\",,,\"\",\"\",\"\",,,\"\",,,\"\",\"\",\"\",,,\"\",,,\"\",\"\",\r\n"
     ]
    }
   ],
   "source": [
    "# have a look at the beginning of one of the files to see what they look like\n",
    "#ver por encima al csv\n",
    "\n",
    "! unzip -p {path_to_zips}On_Time_On_Time_Performance_2015_1.zip | head -n 2"
   ]
  },
  {
   "cell_type": "markdown",
   "metadata": {},
   "source": [
    "Pretty unreadable, so we go for a tool designed specifically for tabular data: **pandas**"
   ]
  },
  {
   "cell_type": "markdown",
   "metadata": {},
   "source": [
    "### Load some of the data (one of the files) into memory as a pandas dataframe. What functions do you need to use?\n",
    "\n",
    "Pro tip: there is no need to decompress the whole file. Check out zipfile.ZipFile"
   ]
  },
  {
   "cell_type": "markdown",
   "metadata": {},
   "source": [
    "First, open a connection to one of the files"
   ]
  },
  {
   "cell_type": "markdown",
   "metadata": {},
   "source": [
    "**Note:** *remember that all the files are indeed part files of the same .zip. And the Readme file is within the .zip.*"
   ]
  },
  {
   "cell_type": "code",
   "execution_count": 48,
   "metadata": {},
   "outputs": [],
   "source": [
    "path_to_zips2=\"/home/dsc/Data/us_dot/otp/\""
   ]
  },
  {
   "cell_type": "code",
   "execution_count": 62,
   "metadata": {},
   "outputs": [
    {
     "name": "stdout",
     "output_type": "stream",
     "text": [
      "fichero.hist\t\t\t\tOn_Time_On_Time_Performance_2015_6.zip\r\n",
      "On_Time_On_Time_Performance_2015_1.zip\tOn_Time_On_Time_Performance_2015_7.zip\r\n",
      "On_Time_On_Time_Performance_2015_2.zip\tOn_Time_On_Time_Performance_2015_8.zip\r\n",
      "On_Time_On_Time_Performance_2015_3.zip\tText_example\r\n",
      "On_Time_On_Time_Performance_2015_4.zip\tthree_largest_file.txt\r\n",
      "On_Time_On_Time_Performance_2015_5.zip\tthre_largest_file.txt\r\n"
     ]
    }
   ],
   "source": [
    "!ls {path_to_zips2}"
   ]
  },
  {
   "cell_type": "code",
   "execution_count": 51,
   "metadata": {},
   "outputs": [],
   "source": [
    "# para no tener que que descomprimir para sacar el csv\n",
    "#filenames [0], es el primer archivo 1 en mi caso porque es el segundo archivo el csv\n",
    "import os\n",
    "import zipfile\n",
    "\n",
    "filenames = os.listdir(path_to_zips2)\n",
    "\n",
    "zip_file = zipfile.ZipFile(path_to_zips2 + filenames[1])"
   ]
  },
  {
   "cell_type": "code",
   "execution_count": 52,
   "metadata": {},
   "outputs": [
    {
     "name": "stdout",
     "output_type": "stream",
     "text": [
      "['thre_largest_file.txt', 'On_Time_On_Time_Performance_2015_2.zip', 'On_Time_On_Time_Performance_2015_8.zip', 'On_Time_On_Time_Performance_2015_4.zip', 'On_Time_On_Time_Performance_2015_3.zip', 'Text_example', 'fichero.hist', 'three_largest_file.txt', 'On_Time_On_Time_Performance_2015_7.zip', 'On_Time_On_Time_Performance_2015_1.zip', 'On_Time_On_Time_Performance_2015_6.zip', 'On_Time_On_Time_Performance_2015_5.zip']\n"
     ]
    }
   ],
   "source": [
    "print(filenames)"
   ]
  },
  {
   "cell_type": "markdown",
   "metadata": {},
   "source": [
    "zip_file is a connection to the compressed file, the .zip. We can use it to open a connection to one of the files it contains, which will behave like a normal uncompressed file that we had opened with open()"
   ]
  },
  {
   "cell_type": "code",
   "execution_count": 53,
   "metadata": {
    "scrolled": true
   },
   "outputs": [
    {
     "name": "stdout",
     "output_type": "stream",
     "text": [
      "<ZipInfo filename='On_Time_On_Time_Performance_2015_2.csv' compress_type=deflate filemode='-rw-r--r--' file_size=192791767 compress_size=21227521>\n"
     ]
    }
   ],
   "source": [
    "csv, readme = zip_file.filelist\n",
    "print(csv)\n",
    "\n",
    "csv_file = zip_file.open(csv.filename)"
   ]
  },
  {
   "cell_type": "markdown",
   "metadata": {
    "collapsed": true
   },
   "source": [
    "Now we're ready to load the file into memory as a pandas dataframe. Remember to close the connections to the files!"
   ]
  },
  {
   "cell_type": "code",
   "execution_count": 54,
   "metadata": {},
   "outputs": [
    {
     "name": "stderr",
     "output_type": "stream",
     "text": [
      "/home/dsc/anaconda3/lib/python3.6/site-packages/IPython/core/interactiveshell.py:2728: DtypeWarning: Columns (77,84) have mixed types. Specify dtype option on import or set low_memory=False.\n",
      "  interactivity=interactivity, compiler=compiler, result=result)\n"
     ]
    }
   ],
   "source": [
    "# We reopen the file because we have already consumed the header line.\n",
    "import pandas as pd\n",
    "\n",
    "csv_file = zip_file.open(csv.filename)\n",
    "df = pd.read_csv(csv_file)\n",
    "\n",
    "csv_file.close()\n",
    "zip_file.close()"
   ]
  },
  {
   "cell_type": "markdown",
   "metadata": {},
   "source": [
    "Let's start examining the data: show the beginning of the file. How many records does it contain?"
   ]
  },
  {
   "cell_type": "code",
   "execution_count": 55,
   "metadata": {
    "scrolled": false
   },
   "outputs": [
    {
     "data": {
      "text/html": [
       "<div>\n",
       "<style scoped>\n",
       "    .dataframe tbody tr th:only-of-type {\n",
       "        vertical-align: middle;\n",
       "    }\n",
       "\n",
       "    .dataframe tbody tr th {\n",
       "        vertical-align: top;\n",
       "    }\n",
       "\n",
       "    .dataframe thead th {\n",
       "        text-align: right;\n",
       "    }\n",
       "</style>\n",
       "<table border=\"1\" class=\"dataframe\">\n",
       "  <thead>\n",
       "    <tr style=\"text-align: right;\">\n",
       "      <th></th>\n",
       "      <th>Year</th>\n",
       "      <th>Quarter</th>\n",
       "      <th>Month</th>\n",
       "      <th>DayofMonth</th>\n",
       "      <th>DayOfWeek</th>\n",
       "      <th>FlightDate</th>\n",
       "      <th>UniqueCarrier</th>\n",
       "      <th>AirlineID</th>\n",
       "      <th>Carrier</th>\n",
       "      <th>TailNum</th>\n",
       "      <th>...</th>\n",
       "      <th>Div4TailNum</th>\n",
       "      <th>Div5Airport</th>\n",
       "      <th>Div5AirportID</th>\n",
       "      <th>Div5AirportSeqID</th>\n",
       "      <th>Div5WheelsOn</th>\n",
       "      <th>Div5TotalGTime</th>\n",
       "      <th>Div5LongestGTime</th>\n",
       "      <th>Div5WheelsOff</th>\n",
       "      <th>Div5TailNum</th>\n",
       "      <th>Unnamed: 109</th>\n",
       "    </tr>\n",
       "  </thead>\n",
       "  <tbody>\n",
       "    <tr>\n",
       "      <th>0</th>\n",
       "      <td>2015</td>\n",
       "      <td>1</td>\n",
       "      <td>2</td>\n",
       "      <td>7</td>\n",
       "      <td>6</td>\n",
       "      <td>2015-02-07</td>\n",
       "      <td>AS</td>\n",
       "      <td>19930</td>\n",
       "      <td>AS</td>\n",
       "      <td>N618AS</td>\n",
       "      <td>...</td>\n",
       "      <td>NaN</td>\n",
       "      <td>NaN</td>\n",
       "      <td>NaN</td>\n",
       "      <td>NaN</td>\n",
       "      <td>NaN</td>\n",
       "      <td>NaN</td>\n",
       "      <td>NaN</td>\n",
       "      <td>NaN</td>\n",
       "      <td>NaN</td>\n",
       "      <td>NaN</td>\n",
       "    </tr>\n",
       "    <tr>\n",
       "      <th>1</th>\n",
       "      <td>2015</td>\n",
       "      <td>1</td>\n",
       "      <td>2</td>\n",
       "      <td>7</td>\n",
       "      <td>6</td>\n",
       "      <td>2015-02-07</td>\n",
       "      <td>AS</td>\n",
       "      <td>19930</td>\n",
       "      <td>AS</td>\n",
       "      <td>N778AS</td>\n",
       "      <td>...</td>\n",
       "      <td>NaN</td>\n",
       "      <td>NaN</td>\n",
       "      <td>NaN</td>\n",
       "      <td>NaN</td>\n",
       "      <td>NaN</td>\n",
       "      <td>NaN</td>\n",
       "      <td>NaN</td>\n",
       "      <td>NaN</td>\n",
       "      <td>NaN</td>\n",
       "      <td>NaN</td>\n",
       "    </tr>\n",
       "    <tr>\n",
       "      <th>2</th>\n",
       "      <td>2015</td>\n",
       "      <td>1</td>\n",
       "      <td>2</td>\n",
       "      <td>7</td>\n",
       "      <td>6</td>\n",
       "      <td>2015-02-07</td>\n",
       "      <td>AS</td>\n",
       "      <td>19930</td>\n",
       "      <td>AS</td>\n",
       "      <td>N586AS</td>\n",
       "      <td>...</td>\n",
       "      <td>NaN</td>\n",
       "      <td>NaN</td>\n",
       "      <td>NaN</td>\n",
       "      <td>NaN</td>\n",
       "      <td>NaN</td>\n",
       "      <td>NaN</td>\n",
       "      <td>NaN</td>\n",
       "      <td>NaN</td>\n",
       "      <td>NaN</td>\n",
       "      <td>NaN</td>\n",
       "    </tr>\n",
       "    <tr>\n",
       "      <th>3</th>\n",
       "      <td>2015</td>\n",
       "      <td>1</td>\n",
       "      <td>2</td>\n",
       "      <td>7</td>\n",
       "      <td>6</td>\n",
       "      <td>2015-02-07</td>\n",
       "      <td>AS</td>\n",
       "      <td>19930</td>\n",
       "      <td>AS</td>\n",
       "      <td>N615AS</td>\n",
       "      <td>...</td>\n",
       "      <td>NaN</td>\n",
       "      <td>NaN</td>\n",
       "      <td>NaN</td>\n",
       "      <td>NaN</td>\n",
       "      <td>NaN</td>\n",
       "      <td>NaN</td>\n",
       "      <td>NaN</td>\n",
       "      <td>NaN</td>\n",
       "      <td>NaN</td>\n",
       "      <td>NaN</td>\n",
       "    </tr>\n",
       "    <tr>\n",
       "      <th>4</th>\n",
       "      <td>2015</td>\n",
       "      <td>1</td>\n",
       "      <td>2</td>\n",
       "      <td>7</td>\n",
       "      <td>6</td>\n",
       "      <td>2015-02-07</td>\n",
       "      <td>AS</td>\n",
       "      <td>19930</td>\n",
       "      <td>AS</td>\n",
       "      <td>N471AS</td>\n",
       "      <td>...</td>\n",
       "      <td>NaN</td>\n",
       "      <td>NaN</td>\n",
       "      <td>NaN</td>\n",
       "      <td>NaN</td>\n",
       "      <td>NaN</td>\n",
       "      <td>NaN</td>\n",
       "      <td>NaN</td>\n",
       "      <td>NaN</td>\n",
       "      <td>NaN</td>\n",
       "      <td>NaN</td>\n",
       "    </tr>\n",
       "  </tbody>\n",
       "</table>\n",
       "<p>5 rows × 110 columns</p>\n",
       "</div>"
      ],
      "text/plain": [
       "   Year  Quarter  Month  DayofMonth  DayOfWeek  FlightDate UniqueCarrier  \\\n",
       "0  2015        1      2           7          6  2015-02-07            AS   \n",
       "1  2015        1      2           7          6  2015-02-07            AS   \n",
       "2  2015        1      2           7          6  2015-02-07            AS   \n",
       "3  2015        1      2           7          6  2015-02-07            AS   \n",
       "4  2015        1      2           7          6  2015-02-07            AS   \n",
       "\n",
       "   AirlineID Carrier TailNum      ...       Div4TailNum  Div5Airport  \\\n",
       "0      19930      AS  N618AS      ...               NaN          NaN   \n",
       "1      19930      AS  N778AS      ...               NaN          NaN   \n",
       "2      19930      AS  N586AS      ...               NaN          NaN   \n",
       "3      19930      AS  N615AS      ...               NaN          NaN   \n",
       "4      19930      AS  N471AS      ...               NaN          NaN   \n",
       "\n",
       "   Div5AirportID  Div5AirportSeqID Div5WheelsOn Div5TotalGTime  \\\n",
       "0            NaN               NaN          NaN            NaN   \n",
       "1            NaN               NaN          NaN            NaN   \n",
       "2            NaN               NaN          NaN            NaN   \n",
       "3            NaN               NaN          NaN            NaN   \n",
       "4            NaN               NaN          NaN            NaN   \n",
       "\n",
       "  Div5LongestGTime  Div5WheelsOff Div5TailNum  Unnamed: 109  \n",
       "0              NaN            NaN         NaN           NaN  \n",
       "1              NaN            NaN         NaN           NaN  \n",
       "2              NaN            NaN         NaN           NaN  \n",
       "3              NaN            NaN         NaN           NaN  \n",
       "4              NaN            NaN         NaN           NaN  \n",
       "\n",
       "[5 rows x 110 columns]"
      ]
     },
     "execution_count": 55,
     "metadata": {},
     "output_type": "execute_result"
    }
   ],
   "source": [
    "df.head()"
   ]
  },
  {
   "cell_type": "code",
   "execution_count": null,
   "metadata": {},
   "outputs": [],
   "source": [
    "#exploracion"
   ]
  },
  {
   "cell_type": "code",
   "execution_count": 63,
   "metadata": {},
   "outputs": [
    {
     "data": {
      "text/html": [
       "<div>\n",
       "<style scoped>\n",
       "    .dataframe tbody tr th:only-of-type {\n",
       "        vertical-align: middle;\n",
       "    }\n",
       "\n",
       "    .dataframe tbody tr th {\n",
       "        vertical-align: top;\n",
       "    }\n",
       "\n",
       "    .dataframe thead th {\n",
       "        text-align: right;\n",
       "    }\n",
       "</style>\n",
       "<table border=\"1\" class=\"dataframe\">\n",
       "  <thead>\n",
       "    <tr style=\"text-align: right;\">\n",
       "      <th></th>\n",
       "      <th>Year</th>\n",
       "      <th>Quarter</th>\n",
       "      <th>Month</th>\n",
       "      <th>DayofMonth</th>\n",
       "      <th>DayOfWeek</th>\n",
       "      <th>FlightDate</th>\n",
       "      <th>UniqueCarrier</th>\n",
       "      <th>AirlineID</th>\n",
       "      <th>Carrier</th>\n",
       "      <th>TailNum</th>\n",
       "      <th>...</th>\n",
       "      <th>Div4TailNum</th>\n",
       "      <th>Div5Airport</th>\n",
       "      <th>Div5AirportID</th>\n",
       "      <th>Div5AirportSeqID</th>\n",
       "      <th>Div5WheelsOn</th>\n",
       "      <th>Div5TotalGTime</th>\n",
       "      <th>Div5LongestGTime</th>\n",
       "      <th>Div5WheelsOff</th>\n",
       "      <th>Div5TailNum</th>\n",
       "      <th>Unnamed: 109</th>\n",
       "    </tr>\n",
       "  </thead>\n",
       "  <tbody>\n",
       "    <tr>\n",
       "      <th>429186</th>\n",
       "      <td>2015</td>\n",
       "      <td>1</td>\n",
       "      <td>2</td>\n",
       "      <td>13</td>\n",
       "      <td>5</td>\n",
       "      <td>2015-02-13</td>\n",
       "      <td>OO</td>\n",
       "      <td>20304</td>\n",
       "      <td>OO</td>\n",
       "      <td>N786SK</td>\n",
       "      <td>...</td>\n",
       "      <td>NaN</td>\n",
       "      <td>NaN</td>\n",
       "      <td>NaN</td>\n",
       "      <td>NaN</td>\n",
       "      <td>NaN</td>\n",
       "      <td>NaN</td>\n",
       "      <td>NaN</td>\n",
       "      <td>NaN</td>\n",
       "      <td>NaN</td>\n",
       "      <td>NaN</td>\n",
       "    </tr>\n",
       "    <tr>\n",
       "      <th>429187</th>\n",
       "      <td>2015</td>\n",
       "      <td>1</td>\n",
       "      <td>2</td>\n",
       "      <td>17</td>\n",
       "      <td>2</td>\n",
       "      <td>2015-02-17</td>\n",
       "      <td>OO</td>\n",
       "      <td>20304</td>\n",
       "      <td>OO</td>\n",
       "      <td>N767SK</td>\n",
       "      <td>...</td>\n",
       "      <td>NaN</td>\n",
       "      <td>NaN</td>\n",
       "      <td>NaN</td>\n",
       "      <td>NaN</td>\n",
       "      <td>NaN</td>\n",
       "      <td>NaN</td>\n",
       "      <td>NaN</td>\n",
       "      <td>NaN</td>\n",
       "      <td>NaN</td>\n",
       "      <td>NaN</td>\n",
       "    </tr>\n",
       "    <tr>\n",
       "      <th>429188</th>\n",
       "      <td>2015</td>\n",
       "      <td>1</td>\n",
       "      <td>2</td>\n",
       "      <td>11</td>\n",
       "      <td>3</td>\n",
       "      <td>2015-02-11</td>\n",
       "      <td>OO</td>\n",
       "      <td>20304</td>\n",
       "      <td>OO</td>\n",
       "      <td>N702SK</td>\n",
       "      <td>...</td>\n",
       "      <td>NaN</td>\n",
       "      <td>NaN</td>\n",
       "      <td>NaN</td>\n",
       "      <td>NaN</td>\n",
       "      <td>NaN</td>\n",
       "      <td>NaN</td>\n",
       "      <td>NaN</td>\n",
       "      <td>NaN</td>\n",
       "      <td>NaN</td>\n",
       "      <td>NaN</td>\n",
       "    </tr>\n",
       "    <tr>\n",
       "      <th>429189</th>\n",
       "      <td>2015</td>\n",
       "      <td>1</td>\n",
       "      <td>2</td>\n",
       "      <td>4</td>\n",
       "      <td>3</td>\n",
       "      <td>2015-02-04</td>\n",
       "      <td>OO</td>\n",
       "      <td>20304</td>\n",
       "      <td>OO</td>\n",
       "      <td>N743SK</td>\n",
       "      <td>...</td>\n",
       "      <td>NaN</td>\n",
       "      <td>NaN</td>\n",
       "      <td>NaN</td>\n",
       "      <td>NaN</td>\n",
       "      <td>NaN</td>\n",
       "      <td>NaN</td>\n",
       "      <td>NaN</td>\n",
       "      <td>NaN</td>\n",
       "      <td>NaN</td>\n",
       "      <td>NaN</td>\n",
       "    </tr>\n",
       "    <tr>\n",
       "      <th>429190</th>\n",
       "      <td>2015</td>\n",
       "      <td>1</td>\n",
       "      <td>2</td>\n",
       "      <td>4</td>\n",
       "      <td>3</td>\n",
       "      <td>2015-02-04</td>\n",
       "      <td>OO</td>\n",
       "      <td>20304</td>\n",
       "      <td>OO</td>\n",
       "      <td>N744SK</td>\n",
       "      <td>...</td>\n",
       "      <td>NaN</td>\n",
       "      <td>NaN</td>\n",
       "      <td>NaN</td>\n",
       "      <td>NaN</td>\n",
       "      <td>NaN</td>\n",
       "      <td>NaN</td>\n",
       "      <td>NaN</td>\n",
       "      <td>NaN</td>\n",
       "      <td>NaN</td>\n",
       "      <td>NaN</td>\n",
       "    </tr>\n",
       "  </tbody>\n",
       "</table>\n",
       "<p>5 rows × 110 columns</p>\n",
       "</div>"
      ],
      "text/plain": [
       "        Year  Quarter  Month  DayofMonth  DayOfWeek  FlightDate UniqueCarrier  \\\n",
       "429186  2015        1      2          13          5  2015-02-13            OO   \n",
       "429187  2015        1      2          17          2  2015-02-17            OO   \n",
       "429188  2015        1      2          11          3  2015-02-11            OO   \n",
       "429189  2015        1      2           4          3  2015-02-04            OO   \n",
       "429190  2015        1      2           4          3  2015-02-04            OO   \n",
       "\n",
       "        AirlineID Carrier TailNum      ...       Div4TailNum  Div5Airport  \\\n",
       "429186      20304      OO  N786SK      ...               NaN          NaN   \n",
       "429187      20304      OO  N767SK      ...               NaN          NaN   \n",
       "429188      20304      OO  N702SK      ...               NaN          NaN   \n",
       "429189      20304      OO  N743SK      ...               NaN          NaN   \n",
       "429190      20304      OO  N744SK      ...               NaN          NaN   \n",
       "\n",
       "        Div5AirportID  Div5AirportSeqID Div5WheelsOn Div5TotalGTime  \\\n",
       "429186            NaN               NaN          NaN            NaN   \n",
       "429187            NaN               NaN          NaN            NaN   \n",
       "429188            NaN               NaN          NaN            NaN   \n",
       "429189            NaN               NaN          NaN            NaN   \n",
       "429190            NaN               NaN          NaN            NaN   \n",
       "\n",
       "       Div5LongestGTime  Div5WheelsOff Div5TailNum  Unnamed: 109  \n",
       "429186              NaN            NaN         NaN           NaN  \n",
       "429187              NaN            NaN         NaN           NaN  \n",
       "429188              NaN            NaN         NaN           NaN  \n",
       "429189              NaN            NaN         NaN           NaN  \n",
       "429190              NaN            NaN         NaN           NaN  \n",
       "\n",
       "[5 rows x 110 columns]"
      ]
     },
     "execution_count": 63,
     "metadata": {},
     "output_type": "execute_result"
    }
   ],
   "source": [
    "df.tail()"
   ]
  },
  {
   "cell_type": "code",
   "execution_count": 57,
   "metadata": {},
   "outputs": [
    {
     "data": {
      "text/plain": [
       "(429191, 110)"
      ]
     },
     "execution_count": 57,
     "metadata": {},
     "output_type": "execute_result"
    }
   ],
   "source": [
    "#numero de columnas y filas\n",
    "df.shape"
   ]
  },
  {
   "cell_type": "code",
   "execution_count": 58,
   "metadata": {},
   "outputs": [
    {
     "name": "stdout",
     "output_type": "stream",
     "text": [
      "47211010\n"
     ]
    },
    {
     "data": {
      "text/plain": [
       "True"
      ]
     },
     "execution_count": 58,
     "metadata": {},
     "output_type": "execute_result"
    }
   ],
   "source": [
    "#multical filas por columnas (size es el numero de elementos)\n",
    "print(df.size)\n",
    "df.size == df.shape[0] * df.shape[1]"
   ]
  },
  {
   "cell_type": "code",
   "execution_count": 59,
   "metadata": {
    "scrolled": true
   },
   "outputs": [
    {
     "data": {
      "text/plain": [
       "Year                    int64\n",
       "Quarter                 int64\n",
       "Month                   int64\n",
       "DayofMonth              int64\n",
       "DayOfWeek               int64\n",
       "FlightDate             object\n",
       "UniqueCarrier          object\n",
       "AirlineID               int64\n",
       "Carrier                object\n",
       "TailNum                object\n",
       "FlightNum               int64\n",
       "OriginAirportID         int64\n",
       "OriginAirportSeqID      int64\n",
       "OriginCityMarketID      int64\n",
       "Origin                 object\n",
       "OriginCityName         object\n",
       "OriginState            object\n",
       "OriginStateFips         int64\n",
       "OriginStateName        object\n",
       "OriginWac               int64\n",
       "DestAirportID           int64\n",
       "DestAirportSeqID        int64\n",
       "DestCityMarketID        int64\n",
       "Dest                   object\n",
       "DestCityName           object\n",
       "DestState              object\n",
       "DestStateFips           int64\n",
       "DestStateName          object\n",
       "DestWac                 int64\n",
       "CRSDepTime              int64\n",
       "                       ...   \n",
       "Div2WheelsOn          float64\n",
       "Div2TotalGTime        float64\n",
       "Div2LongestGTime      float64\n",
       "Div2WheelsOff         float64\n",
       "Div2TailNum            object\n",
       "Div3Airport           float64\n",
       "Div3AirportID         float64\n",
       "Div3AirportSeqID      float64\n",
       "Div3WheelsOn          float64\n",
       "Div3TotalGTime        float64\n",
       "Div3LongestGTime      float64\n",
       "Div3WheelsOff         float64\n",
       "Div3TailNum           float64\n",
       "Div4Airport           float64\n",
       "Div4AirportID         float64\n",
       "Div4AirportSeqID      float64\n",
       "Div4WheelsOn          float64\n",
       "Div4TotalGTime        float64\n",
       "Div4LongestGTime      float64\n",
       "Div4WheelsOff         float64\n",
       "Div4TailNum           float64\n",
       "Div5Airport           float64\n",
       "Div5AirportID         float64\n",
       "Div5AirportSeqID      float64\n",
       "Div5WheelsOn          float64\n",
       "Div5TotalGTime        float64\n",
       "Div5LongestGTime      float64\n",
       "Div5WheelsOff         float64\n",
       "Div5TailNum           float64\n",
       "Unnamed: 109          float64\n",
       "Length: 110, dtype: object"
      ]
     },
     "execution_count": 59,
     "metadata": {},
     "output_type": "execute_result"
    }
   ],
   "source": [
    "df.dtypes"
   ]
  },
  {
   "cell_type": "code",
   "execution_count": 64,
   "metadata": {
    "scrolled": true
   },
   "outputs": [
    {
     "data": {
      "text/html": [
       "<div>\n",
       "<style scoped>\n",
       "    .dataframe tbody tr th:only-of-type {\n",
       "        vertical-align: middle;\n",
       "    }\n",
       "\n",
       "    .dataframe tbody tr th {\n",
       "        vertical-align: top;\n",
       "    }\n",
       "\n",
       "    .dataframe thead th {\n",
       "        text-align: right;\n",
       "    }\n",
       "</style>\n",
       "<table border=\"1\" class=\"dataframe\">\n",
       "  <thead>\n",
       "    <tr style=\"text-align: right;\">\n",
       "      <th></th>\n",
       "      <th>Year</th>\n",
       "      <th>Quarter</th>\n",
       "      <th>Month</th>\n",
       "      <th>DayofMonth</th>\n",
       "      <th>DayOfWeek</th>\n",
       "      <th>AirlineID</th>\n",
       "      <th>FlightNum</th>\n",
       "      <th>OriginAirportID</th>\n",
       "      <th>OriginAirportSeqID</th>\n",
       "      <th>OriginCityMarketID</th>\n",
       "      <th>...</th>\n",
       "      <th>Div4TailNum</th>\n",
       "      <th>Div5Airport</th>\n",
       "      <th>Div5AirportID</th>\n",
       "      <th>Div5AirportSeqID</th>\n",
       "      <th>Div5WheelsOn</th>\n",
       "      <th>Div5TotalGTime</th>\n",
       "      <th>Div5LongestGTime</th>\n",
       "      <th>Div5WheelsOff</th>\n",
       "      <th>Div5TailNum</th>\n",
       "      <th>Unnamed: 109</th>\n",
       "    </tr>\n",
       "  </thead>\n",
       "  <tbody>\n",
       "    <tr>\n",
       "      <th>count</th>\n",
       "      <td>429191.0</td>\n",
       "      <td>429191.0</td>\n",
       "      <td>429191.0</td>\n",
       "      <td>429191.000000</td>\n",
       "      <td>429191.000000</td>\n",
       "      <td>429191.000000</td>\n",
       "      <td>429191.000000</td>\n",
       "      <td>429191.000000</td>\n",
       "      <td>4.291910e+05</td>\n",
       "      <td>429191.000000</td>\n",
       "      <td>...</td>\n",
       "      <td>0.0</td>\n",
       "      <td>0.0</td>\n",
       "      <td>0.0</td>\n",
       "      <td>0.0</td>\n",
       "      <td>0.0</td>\n",
       "      <td>0.0</td>\n",
       "      <td>0.0</td>\n",
       "      <td>0.0</td>\n",
       "      <td>0.0</td>\n",
       "      <td>0.0</td>\n",
       "    </tr>\n",
       "    <tr>\n",
       "      <th>mean</th>\n",
       "      <td>2015.0</td>\n",
       "      <td>1.0</td>\n",
       "      <td>2.0</td>\n",
       "      <td>14.601581</td>\n",
       "      <td>3.902675</td>\n",
       "      <td>19980.135406</td>\n",
       "      <td>2261.363365</td>\n",
       "      <td>12666.278533</td>\n",
       "      <td>1.266631e+06</td>\n",
       "      <td>31711.406646</td>\n",
       "      <td>...</td>\n",
       "      <td>NaN</td>\n",
       "      <td>NaN</td>\n",
       "      <td>NaN</td>\n",
       "      <td>NaN</td>\n",
       "      <td>NaN</td>\n",
       "      <td>NaN</td>\n",
       "      <td>NaN</td>\n",
       "      <td>NaN</td>\n",
       "      <td>NaN</td>\n",
       "      <td>NaN</td>\n",
       "    </tr>\n",
       "    <tr>\n",
       "      <th>std</th>\n",
       "      <td>0.0</td>\n",
       "      <td>0.0</td>\n",
       "      <td>0.0</td>\n",
       "      <td>8.040341</td>\n",
       "      <td>1.976684</td>\n",
       "      <td>397.065352</td>\n",
       "      <td>1795.537547</td>\n",
       "      <td>1518.082489</td>\n",
       "      <td>1.518079e+05</td>\n",
       "      <td>1282.355657</td>\n",
       "      <td>...</td>\n",
       "      <td>NaN</td>\n",
       "      <td>NaN</td>\n",
       "      <td>NaN</td>\n",
       "      <td>NaN</td>\n",
       "      <td>NaN</td>\n",
       "      <td>NaN</td>\n",
       "      <td>NaN</td>\n",
       "      <td>NaN</td>\n",
       "      <td>NaN</td>\n",
       "      <td>NaN</td>\n",
       "    </tr>\n",
       "    <tr>\n",
       "      <th>min</th>\n",
       "      <td>2015.0</td>\n",
       "      <td>1.0</td>\n",
       "      <td>2.0</td>\n",
       "      <td>1.000000</td>\n",
       "      <td>1.000000</td>\n",
       "      <td>19393.000000</td>\n",
       "      <td>1.000000</td>\n",
       "      <td>10135.000000</td>\n",
       "      <td>1.013503e+06</td>\n",
       "      <td>30070.000000</td>\n",
       "      <td>...</td>\n",
       "      <td>NaN</td>\n",
       "      <td>NaN</td>\n",
       "      <td>NaN</td>\n",
       "      <td>NaN</td>\n",
       "      <td>NaN</td>\n",
       "      <td>NaN</td>\n",
       "      <td>NaN</td>\n",
       "      <td>NaN</td>\n",
       "      <td>NaN</td>\n",
       "      <td>NaN</td>\n",
       "    </tr>\n",
       "    <tr>\n",
       "      <th>25%</th>\n",
       "      <td>2015.0</td>\n",
       "      <td>1.0</td>\n",
       "      <td>2.0</td>\n",
       "      <td>8.000000</td>\n",
       "      <td>2.000000</td>\n",
       "      <td>19790.000000</td>\n",
       "      <td>756.000000</td>\n",
       "      <td>11292.000000</td>\n",
       "      <td>1.129202e+06</td>\n",
       "      <td>30627.000000</td>\n",
       "      <td>...</td>\n",
       "      <td>NaN</td>\n",
       "      <td>NaN</td>\n",
       "      <td>NaN</td>\n",
       "      <td>NaN</td>\n",
       "      <td>NaN</td>\n",
       "      <td>NaN</td>\n",
       "      <td>NaN</td>\n",
       "      <td>NaN</td>\n",
       "      <td>NaN</td>\n",
       "      <td>NaN</td>\n",
       "    </tr>\n",
       "    <tr>\n",
       "      <th>50%</th>\n",
       "      <td>2015.0</td>\n",
       "      <td>1.0</td>\n",
       "      <td>2.0</td>\n",
       "      <td>15.000000</td>\n",
       "      <td>4.000000</td>\n",
       "      <td>19977.000000</td>\n",
       "      <td>1731.000000</td>\n",
       "      <td>12889.000000</td>\n",
       "      <td>1.288903e+06</td>\n",
       "      <td>31453.000000</td>\n",
       "      <td>...</td>\n",
       "      <td>NaN</td>\n",
       "      <td>NaN</td>\n",
       "      <td>NaN</td>\n",
       "      <td>NaN</td>\n",
       "      <td>NaN</td>\n",
       "      <td>NaN</td>\n",
       "      <td>NaN</td>\n",
       "      <td>NaN</td>\n",
       "      <td>NaN</td>\n",
       "      <td>NaN</td>\n",
       "    </tr>\n",
       "    <tr>\n",
       "      <th>75%</th>\n",
       "      <td>2015.0</td>\n",
       "      <td>1.0</td>\n",
       "      <td>2.0</td>\n",
       "      <td>22.000000</td>\n",
       "      <td>6.000000</td>\n",
       "      <td>20366.000000</td>\n",
       "      <td>3495.000000</td>\n",
       "      <td>13930.000000</td>\n",
       "      <td>1.393003e+06</td>\n",
       "      <td>32467.000000</td>\n",
       "      <td>...</td>\n",
       "      <td>NaN</td>\n",
       "      <td>NaN</td>\n",
       "      <td>NaN</td>\n",
       "      <td>NaN</td>\n",
       "      <td>NaN</td>\n",
       "      <td>NaN</td>\n",
       "      <td>NaN</td>\n",
       "      <td>NaN</td>\n",
       "      <td>NaN</td>\n",
       "      <td>NaN</td>\n",
       "    </tr>\n",
       "    <tr>\n",
       "      <th>max</th>\n",
       "      <td>2015.0</td>\n",
       "      <td>1.0</td>\n",
       "      <td>2.0</td>\n",
       "      <td>28.000000</td>\n",
       "      <td>7.000000</td>\n",
       "      <td>21171.000000</td>\n",
       "      <td>9320.000000</td>\n",
       "      <td>16218.000000</td>\n",
       "      <td>1.621801e+06</td>\n",
       "      <td>35991.000000</td>\n",
       "      <td>...</td>\n",
       "      <td>NaN</td>\n",
       "      <td>NaN</td>\n",
       "      <td>NaN</td>\n",
       "      <td>NaN</td>\n",
       "      <td>NaN</td>\n",
       "      <td>NaN</td>\n",
       "      <td>NaN</td>\n",
       "      <td>NaN</td>\n",
       "      <td>NaN</td>\n",
       "      <td>NaN</td>\n",
       "    </tr>\n",
       "  </tbody>\n",
       "</table>\n",
       "<p>8 rows × 91 columns</p>\n",
       "</div>"
      ],
      "text/plain": [
       "           Year   Quarter     Month     DayofMonth      DayOfWeek  \\\n",
       "count  429191.0  429191.0  429191.0  429191.000000  429191.000000   \n",
       "mean     2015.0       1.0       2.0      14.601581       3.902675   \n",
       "std         0.0       0.0       0.0       8.040341       1.976684   \n",
       "min      2015.0       1.0       2.0       1.000000       1.000000   \n",
       "25%      2015.0       1.0       2.0       8.000000       2.000000   \n",
       "50%      2015.0       1.0       2.0      15.000000       4.000000   \n",
       "75%      2015.0       1.0       2.0      22.000000       6.000000   \n",
       "max      2015.0       1.0       2.0      28.000000       7.000000   \n",
       "\n",
       "           AirlineID      FlightNum  OriginAirportID  OriginAirportSeqID  \\\n",
       "count  429191.000000  429191.000000    429191.000000        4.291910e+05   \n",
       "mean    19980.135406    2261.363365     12666.278533        1.266631e+06   \n",
       "std       397.065352    1795.537547      1518.082489        1.518079e+05   \n",
       "min     19393.000000       1.000000     10135.000000        1.013503e+06   \n",
       "25%     19790.000000     756.000000     11292.000000        1.129202e+06   \n",
       "50%     19977.000000    1731.000000     12889.000000        1.288903e+06   \n",
       "75%     20366.000000    3495.000000     13930.000000        1.393003e+06   \n",
       "max     21171.000000    9320.000000     16218.000000        1.621801e+06   \n",
       "\n",
       "       OriginCityMarketID      ...       Div4TailNum  Div5Airport  \\\n",
       "count       429191.000000      ...               0.0          0.0   \n",
       "mean         31711.406646      ...               NaN          NaN   \n",
       "std           1282.355657      ...               NaN          NaN   \n",
       "min          30070.000000      ...               NaN          NaN   \n",
       "25%          30627.000000      ...               NaN          NaN   \n",
       "50%          31453.000000      ...               NaN          NaN   \n",
       "75%          32467.000000      ...               NaN          NaN   \n",
       "max          35991.000000      ...               NaN          NaN   \n",
       "\n",
       "       Div5AirportID  Div5AirportSeqID  Div5WheelsOn  Div5TotalGTime  \\\n",
       "count            0.0               0.0           0.0             0.0   \n",
       "mean             NaN               NaN           NaN             NaN   \n",
       "std              NaN               NaN           NaN             NaN   \n",
       "min              NaN               NaN           NaN             NaN   \n",
       "25%              NaN               NaN           NaN             NaN   \n",
       "50%              NaN               NaN           NaN             NaN   \n",
       "75%              NaN               NaN           NaN             NaN   \n",
       "max              NaN               NaN           NaN             NaN   \n",
       "\n",
       "       Div5LongestGTime  Div5WheelsOff  Div5TailNum  Unnamed: 109  \n",
       "count               0.0            0.0          0.0           0.0  \n",
       "mean                NaN            NaN          NaN           NaN  \n",
       "std                 NaN            NaN          NaN           NaN  \n",
       "min                 NaN            NaN          NaN           NaN  \n",
       "25%                 NaN            NaN          NaN           NaN  \n",
       "50%                 NaN            NaN          NaN           NaN  \n",
       "75%                 NaN            NaN          NaN           NaN  \n",
       "max                 NaN            NaN          NaN           NaN  \n",
       "\n",
       "[8 rows x 91 columns]"
      ]
     },
     "execution_count": 64,
     "metadata": {},
     "output_type": "execute_result"
    }
   ],
   "source": [
    "df.describe()"
   ]
  },
  {
   "cell_type": "code",
   "execution_count": 65,
   "metadata": {},
   "outputs": [
    {
     "data": {
      "text/plain": [
       "Year                  429191\n",
       "Quarter               429191\n",
       "Month                 429191\n",
       "DayofMonth            429191\n",
       "DayOfWeek             429191\n",
       "FlightDate            429191\n",
       "UniqueCarrier         429191\n",
       "AirlineID             429191\n",
       "Carrier               429191\n",
       "TailNum               425597\n",
       "FlightNum             429191\n",
       "OriginAirportID       429191\n",
       "OriginAirportSeqID    429191\n",
       "OriginCityMarketID    429191\n",
       "Origin                429191\n",
       "OriginCityName        429191\n",
       "OriginState           429191\n",
       "OriginStateFips       429191\n",
       "OriginStateName       429191\n",
       "OriginWac             429191\n",
       "DestAirportID         429191\n",
       "DestAirportSeqID      429191\n",
       "DestCityMarketID      429191\n",
       "Dest                  429191\n",
       "DestCityName          429191\n",
       "DestState             429191\n",
       "DestStateFips         429191\n",
       "DestStateName         429191\n",
       "DestWac               429191\n",
       "CRSDepTime            429191\n",
       "                       ...  \n",
       "Div2WheelsOn              14\n",
       "Div2TotalGTime            14\n",
       "Div2LongestGTime          14\n",
       "Div2WheelsOff              1\n",
       "Div2TailNum                1\n",
       "Div3Airport                0\n",
       "Div3AirportID              0\n",
       "Div3AirportSeqID           0\n",
       "Div3WheelsOn               0\n",
       "Div3TotalGTime             0\n",
       "Div3LongestGTime           0\n",
       "Div3WheelsOff              0\n",
       "Div3TailNum                0\n",
       "Div4Airport                0\n",
       "Div4AirportID              0\n",
       "Div4AirportSeqID           0\n",
       "Div4WheelsOn               0\n",
       "Div4TotalGTime             0\n",
       "Div4LongestGTime           0\n",
       "Div4WheelsOff              0\n",
       "Div4TailNum                0\n",
       "Div5Airport                0\n",
       "Div5AirportID              0\n",
       "Div5AirportSeqID           0\n",
       "Div5WheelsOn               0\n",
       "Div5TotalGTime             0\n",
       "Div5LongestGTime           0\n",
       "Div5WheelsOff              0\n",
       "Div5TailNum                0\n",
       "Unnamed: 109               0\n",
       "Length: 110, dtype: int64"
      ]
     },
     "execution_count": 65,
     "metadata": {},
     "output_type": "execute_result"
    }
   ],
   "source": [
    "df.count()"
   ]
  },
  {
   "cell_type": "code",
   "execution_count": 69,
   "metadata": {
    "scrolled": false
   },
   "outputs": [],
   "source": [
    "#contar todos los NaN y con esto veriamos el contador de no nulos por cada columna\n",
    "not_null_count = df.count()\n"
   ]
  },
  {
   "cell_type": "code",
   "execution_count": 70,
   "metadata": {
    "scrolled": false
   },
   "outputs": [
    {
     "data": {
      "text/plain": [
       "DivActualElapsedTime    706\n",
       "DivArrDelay             706\n",
       "Div1WheelsOff           719\n",
       "Div1TailNum             719\n",
       "Div2Airport              14\n",
       "Div2AirportID            14\n",
       "Div2AirportSeqID         14\n",
       "Div2WheelsOn             14\n",
       "Div2TotalGTime           14\n",
       "Div2LongestGTime         14\n",
       "Div2WheelsOff             1\n",
       "Div2TailNum               1\n",
       "Div3Airport               0\n",
       "Div3AirportID             0\n",
       "Div3AirportSeqID          0\n",
       "Div3WheelsOn              0\n",
       "Div3TotalGTime            0\n",
       "Div3LongestGTime          0\n",
       "Div3WheelsOff             0\n",
       "Div3TailNum               0\n",
       "Div4Airport               0\n",
       "Div4AirportID             0\n",
       "Div4AirportSeqID          0\n",
       "Div4WheelsOn              0\n",
       "Div4TotalGTime            0\n",
       "Div4LongestGTime          0\n",
       "Div4WheelsOff             0\n",
       "Div4TailNum               0\n",
       "Div5Airport               0\n",
       "Div5AirportID             0\n",
       "Div5AirportSeqID          0\n",
       "Div5WheelsOn              0\n",
       "Div5TotalGTime            0\n",
       "Div5LongestGTime          0\n",
       "Div5WheelsOff             0\n",
       "Div5TailNum               0\n",
       "Unnamed: 109              0\n",
       "dtype: int64"
      ]
     },
     "execution_count": 70,
     "metadata": {},
     "output_type": "execute_result"
    }
   ],
   "source": [
    "#sacar las columnas que tengan mas de  1000 nulos\n",
    "\n",
    "not_null_count [not_null_count < 1000]"
   ]
  },
  {
   "cell_type": "code",
   "execution_count": 72,
   "metadata": {},
   "outputs": [],
   "source": [
    "df.drop?"
   ]
  },
  {
   "cell_type": "code",
   "execution_count": 80,
   "metadata": {},
   "outputs": [],
   "source": [
    "#cargarnos las columnas que no queremos usar. Axis=1 para quitar columnas\n",
    "#drop por defecto elimina filas\n",
    "dfsinNan = df.drop(df.columns[not_null_count < 1000], axis=1)"
   ]
  },
  {
   "cell_type": "code",
   "execution_count": 81,
   "metadata": {},
   "outputs": [
    {
     "data": {
      "text/plain": [
       "Year                  429191\n",
       "Quarter               429191\n",
       "Month                 429191\n",
       "DayofMonth            429191\n",
       "DayOfWeek             429191\n",
       "FlightDate            429191\n",
       "UniqueCarrier         429191\n",
       "AirlineID             429191\n",
       "Carrier               429191\n",
       "TailNum               425597\n",
       "FlightNum             429191\n",
       "OriginAirportID       429191\n",
       "OriginAirportSeqID    429191\n",
       "OriginCityMarketID    429191\n",
       "Origin                429191\n",
       "OriginCityName        429191\n",
       "OriginState           429191\n",
       "OriginStateFips       429191\n",
       "OriginStateName       429191\n",
       "OriginWac             429191\n",
       "DestAirportID         429191\n",
       "DestAirportSeqID      429191\n",
       "DestCityMarketID      429191\n",
       "Dest                  429191\n",
       "DestCityName          429191\n",
       "DestState             429191\n",
       "DestStateFips         429191\n",
       "DestStateName         429191\n",
       "DestWac               429191\n",
       "CRSDepTime            429191\n",
       "                       ...  \n",
       "ArrDelayMinutes       407663\n",
       "ArrDel15              407663\n",
       "ArrivalDelayGroups    407663\n",
       "ArrTimeBlk            429191\n",
       "Cancelled             429191\n",
       "CancellationCode       20517\n",
       "Diverted              429191\n",
       "CRSElapsedTime        429189\n",
       "ActualElapsedTime     407663\n",
       "AirTime               407663\n",
       "Flights               429191\n",
       "Distance              429191\n",
       "DistanceGroup         429191\n",
       "CarrierDelay           95179\n",
       "WeatherDelay           95179\n",
       "NASDelay               95179\n",
       "SecurityDelay          95179\n",
       "LateAircraftDelay      95179\n",
       "FirstDepTime            3018\n",
       "TotalAddGTime           3018\n",
       "LongestAddGTime         3018\n",
       "DivAirportLandings    429191\n",
       "DivReachedDest          1011\n",
       "DivDistance             1011\n",
       "Div1Airport             1116\n",
       "Div1AirportID           1116\n",
       "Div1AirportSeqID        1116\n",
       "Div1WheelsOn            1116\n",
       "Div1TotalGTime          1116\n",
       "Div1LongestGTime        1116\n",
       "Length: 73, dtype: int64"
      ]
     },
     "execution_count": 81,
     "metadata": {},
     "output_type": "execute_result"
    }
   ],
   "source": [
    "dfsinNan.count()"
   ]
  },
  {
   "cell_type": "markdown",
   "metadata": {},
   "source": [
    "## Trimming the data\n",
    "\n",
    "The table is quite wide, and it seems that there are many columns without much data. Which, exactly, are those? (let's consider empty a column that doesn't contain at least 1000 records, arbitrarily)"
   ]
  },
  {
   "cell_type": "code",
   "execution_count": 114,
   "metadata": {
    "scrolled": true
   },
   "outputs": [
    {
     "data": {
      "text/plain": [
       "DivActualElapsedTime    706\n",
       "DivArrDelay             706\n",
       "Div1WheelsOff           719\n",
       "Div1TailNum             719\n",
       "Div2Airport              14\n",
       "Div2AirportID            14\n",
       "Div2AirportSeqID         14\n",
       "Div2WheelsOn             14\n",
       "Div2TotalGTime           14\n",
       "Div2LongestGTime         14\n",
       "Div2WheelsOff             1\n",
       "Div2TailNum               1\n",
       "Div3Airport               0\n",
       "Div3AirportID             0\n",
       "Div3AirportSeqID          0\n",
       "Div3WheelsOn              0\n",
       "Div3TotalGTime            0\n",
       "Div3LongestGTime          0\n",
       "Div3WheelsOff             0\n",
       "Div3TailNum               0\n",
       "Div4Airport               0\n",
       "Div4AirportID             0\n",
       "Div4AirportSeqID          0\n",
       "Div4WheelsOn              0\n",
       "Div4TotalGTime            0\n",
       "Div4LongestGTime          0\n",
       "Div4WheelsOff             0\n",
       "Div4TailNum               0\n",
       "Div5Airport               0\n",
       "Div5AirportID             0\n",
       "Div5AirportSeqID          0\n",
       "Div5WheelsOn              0\n",
       "Div5TotalGTime            0\n",
       "Div5LongestGTime          0\n",
       "Div5WheelsOff             0\n",
       "Div5TailNum               0\n",
       "Unnamed: 109              0\n",
       "dtype: int64"
      ]
     },
     "execution_count": 114,
     "metadata": {},
     "output_type": "execute_result"
    }
   ],
   "source": [
    "non_null_counts = df.count()\n",
    "\n",
    "non_null_counts[non_null_counts < 1000]"
   ]
  },
  {
   "cell_type": "markdown",
   "metadata": {
    "collapsed": true
   },
   "source": [
    "It seems that the \"diverted\" fields, after the first, are often empty. No big surprise, since not that many flights must be diverted more than once in a month. Let's drop those columns, since we are not that interested in those, at least for now."
   ]
  },
  {
   "cell_type": "code",
   "execution_count": 115,
   "metadata": {},
   "outputs": [],
   "source": [
    "# Dropping inplace leads to confusion. Confusion leads to fear. \n",
    "# Fear leads to anger. Anger leads to hate. Hate leads to suffering.\n",
    "df2 = df.drop(df.columns[non_null_counts < 1000], axis=1)"
   ]
  },
  {
   "cell_type": "code",
   "execution_count": 116,
   "metadata": {},
   "outputs": [
    {
     "data": {
      "text/plain": [
       "(429191, 73)"
      ]
     },
     "execution_count": 116,
     "metadata": {},
     "output_type": "execute_result"
    }
   ],
   "source": [
    "df2.shape"
   ]
  },
  {
   "cell_type": "code",
   "execution_count": 117,
   "metadata": {},
   "outputs": [
    {
     "data": {
      "text/plain": [
       "True"
      ]
     },
     "execution_count": 117,
     "metadata": {},
     "output_type": "execute_result"
    }
   ],
   "source": [
    "# Another way to do it\n",
    "\n",
    "df.dropna(axis=1, thresh=1000).shape == df2.shape"
   ]
  },
  {
   "cell_type": "markdown",
   "metadata": {},
   "source": [
    "Now that we have eliminated some inconvenient data columns, let's have a look at the rest: let's loook at how the location data is encoded.\n"
   ]
  },
  {
   "cell_type": "markdown",
   "metadata": {},
   "source": [
    "#### Exercise:\n",
    "\n",
    "First, generate a list of the columns that have 'Origin' in their name\n",
    "\n",
    "Second, show a sample of the values that those columns take.\n",
    "\n",
    "Hint: we are going to use the str attribute of Series and Indexes\n"
   ]
  },
  {
   "cell_type": "code",
   "execution_count": 108,
   "metadata": {},
   "outputs": [
    {
     "data": {
      "text/html": [
       "<div>\n",
       "<style scoped>\n",
       "    .dataframe tbody tr th:only-of-type {\n",
       "        vertical-align: middle;\n",
       "    }\n",
       "\n",
       "    .dataframe tbody tr th {\n",
       "        vertical-align: top;\n",
       "    }\n",
       "\n",
       "    .dataframe thead th {\n",
       "        text-align: right;\n",
       "    }\n",
       "</style>\n",
       "<table border=\"1\" class=\"dataframe\">\n",
       "  <thead>\n",
       "    <tr style=\"text-align: right;\">\n",
       "      <th></th>\n",
       "      <th>OriginAirportID</th>\n",
       "      <th>OriginAirportSeqID</th>\n",
       "      <th>OriginCityMarketID</th>\n",
       "      <th>Origin</th>\n",
       "      <th>OriginCityName</th>\n",
       "      <th>OriginState</th>\n",
       "      <th>OriginStateFips</th>\n",
       "      <th>OriginStateName</th>\n",
       "      <th>OriginWac</th>\n",
       "    </tr>\n",
       "  </thead>\n",
       "  <tbody>\n",
       "    <tr>\n",
       "      <th>417677</th>\n",
       "      <td>11057</td>\n",
       "      <td>1105703</td>\n",
       "      <td>31057</td>\n",
       "      <td>CLT</td>\n",
       "      <td>Charlotte, NC</td>\n",
       "      <td>NC</td>\n",
       "      <td>37</td>\n",
       "      <td>North Carolina</td>\n",
       "      <td>36</td>\n",
       "    </tr>\n",
       "    <tr>\n",
       "      <th>333316</th>\n",
       "      <td>11298</td>\n",
       "      <td>1129803</td>\n",
       "      <td>30194</td>\n",
       "      <td>DFW</td>\n",
       "      <td>Dallas/Fort Worth, TX</td>\n",
       "      <td>TX</td>\n",
       "      <td>48</td>\n",
       "      <td>Texas</td>\n",
       "      <td>74</td>\n",
       "    </tr>\n",
       "    <tr>\n",
       "      <th>427795</th>\n",
       "      <td>11278</td>\n",
       "      <td>1127802</td>\n",
       "      <td>30852</td>\n",
       "      <td>DCA</td>\n",
       "      <td>Washington, DC</td>\n",
       "      <td>VA</td>\n",
       "      <td>51</td>\n",
       "      <td>Virginia</td>\n",
       "      <td>38</td>\n",
       "    </tr>\n",
       "    <tr>\n",
       "      <th>257698</th>\n",
       "      <td>10397</td>\n",
       "      <td>1039705</td>\n",
       "      <td>30397</td>\n",
       "      <td>ATL</td>\n",
       "      <td>Atlanta, GA</td>\n",
       "      <td>GA</td>\n",
       "      <td>13</td>\n",
       "      <td>Georgia</td>\n",
       "      <td>34</td>\n",
       "    </tr>\n",
       "    <tr>\n",
       "      <th>155475</th>\n",
       "      <td>10529</td>\n",
       "      <td>1052904</td>\n",
       "      <td>30529</td>\n",
       "      <td>BDL</td>\n",
       "      <td>Hartford, CT</td>\n",
       "      <td>CT</td>\n",
       "      <td>9</td>\n",
       "      <td>Connecticut</td>\n",
       "      <td>11</td>\n",
       "    </tr>\n",
       "  </tbody>\n",
       "</table>\n",
       "</div>"
      ],
      "text/plain": [
       "        OriginAirportID  OriginAirportSeqID  OriginCityMarketID Origin  \\\n",
       "417677            11057             1105703               31057    CLT   \n",
       "333316            11298             1129803               30194    DFW   \n",
       "427795            11278             1127802               30852    DCA   \n",
       "257698            10397             1039705               30397    ATL   \n",
       "155475            10529             1052904               30529    BDL   \n",
       "\n",
       "               OriginCityName OriginState  OriginStateFips OriginStateName  \\\n",
       "417677          Charlotte, NC          NC               37  North Carolina   \n",
       "333316  Dallas/Fort Worth, TX          TX               48           Texas   \n",
       "427795         Washington, DC          VA               51        Virginia   \n",
       "257698            Atlanta, GA          GA               13         Georgia   \n",
       "155475           Hartford, CT          CT                9     Connecticut   \n",
       "\n",
       "        OriginWac  \n",
       "417677         36  \n",
       "333316         74  \n",
       "427795         38  \n",
       "257698         34  \n",
       "155475         11  "
      ]
     },
     "execution_count": 108,
     "metadata": {},
     "output_type": "execute_result"
    }
   ],
   "source": [
    "#generar lista columnas donde contienen Origin\n",
    "#sample es aleaotiro\n",
    "\n",
    "dfsinNan[dfsinNan.columns[dfsinNan.columns.str.contains('Origin')]].sample(5)"
   ]
  },
  {
   "cell_type": "markdown",
   "metadata": {},
   "source": [
    "So much redundant information!"
   ]
  },
  {
   "cell_type": "markdown",
   "metadata": {},
   "source": [
    "## Fast forward\n",
    "\n",
    "Just taking out the redundant columns would take a while, so let's jump ahead with this list of interesting columns:"
   ]
  },
  {
   "cell_type": "code",
   "execution_count": 118,
   "metadata": {},
   "outputs": [
    {
     "data": {
      "text/html": [
       "<div>\n",
       "<style scoped>\n",
       "    .dataframe tbody tr th:only-of-type {\n",
       "        vertical-align: middle;\n",
       "    }\n",
       "\n",
       "    .dataframe tbody tr th {\n",
       "        vertical-align: top;\n",
       "    }\n",
       "\n",
       "    .dataframe thead th {\n",
       "        text-align: right;\n",
       "    }\n",
       "</style>\n",
       "<table border=\"1\" class=\"dataframe\">\n",
       "  <thead>\n",
       "    <tr style=\"text-align: right;\">\n",
       "      <th></th>\n",
       "      <th>Year</th>\n",
       "      <th>Quarter</th>\n",
       "      <th>Month</th>\n",
       "      <th>DayofMonth</th>\n",
       "      <th>DayOfWeek</th>\n",
       "      <th>FlightDate</th>\n",
       "      <th>UniqueCarrier</th>\n",
       "      <th>AirlineID</th>\n",
       "      <th>Carrier</th>\n",
       "      <th>TailNum</th>\n",
       "      <th>...</th>\n",
       "      <th>Div4TailNum</th>\n",
       "      <th>Div5Airport</th>\n",
       "      <th>Div5AirportID</th>\n",
       "      <th>Div5AirportSeqID</th>\n",
       "      <th>Div5WheelsOn</th>\n",
       "      <th>Div5TotalGTime</th>\n",
       "      <th>Div5LongestGTime</th>\n",
       "      <th>Div5WheelsOff</th>\n",
       "      <th>Div5TailNum</th>\n",
       "      <th>Unnamed: 109</th>\n",
       "    </tr>\n",
       "  </thead>\n",
       "  <tbody>\n",
       "    <tr>\n",
       "      <th>290922</th>\n",
       "      <td>2015</td>\n",
       "      <td>1</td>\n",
       "      <td>2</td>\n",
       "      <td>21</td>\n",
       "      <td>6</td>\n",
       "      <td>2015-02-21</td>\n",
       "      <td>WN</td>\n",
       "      <td>19393</td>\n",
       "      <td>WN</td>\n",
       "      <td>N616SW</td>\n",
       "      <td>...</td>\n",
       "      <td>NaN</td>\n",
       "      <td>NaN</td>\n",
       "      <td>NaN</td>\n",
       "      <td>NaN</td>\n",
       "      <td>NaN</td>\n",
       "      <td>NaN</td>\n",
       "      <td>NaN</td>\n",
       "      <td>NaN</td>\n",
       "      <td>NaN</td>\n",
       "      <td>NaN</td>\n",
       "    </tr>\n",
       "    <tr>\n",
       "      <th>395243</th>\n",
       "      <td>2015</td>\n",
       "      <td>1</td>\n",
       "      <td>2</td>\n",
       "      <td>9</td>\n",
       "      <td>1</td>\n",
       "      <td>2015-02-09</td>\n",
       "      <td>UA</td>\n",
       "      <td>19977</td>\n",
       "      <td>UA</td>\n",
       "      <td>N77295</td>\n",
       "      <td>...</td>\n",
       "      <td>NaN</td>\n",
       "      <td>NaN</td>\n",
       "      <td>NaN</td>\n",
       "      <td>NaN</td>\n",
       "      <td>NaN</td>\n",
       "      <td>NaN</td>\n",
       "      <td>NaN</td>\n",
       "      <td>NaN</td>\n",
       "      <td>NaN</td>\n",
       "      <td>NaN</td>\n",
       "    </tr>\n",
       "    <tr>\n",
       "      <th>56134</th>\n",
       "      <td>2015</td>\n",
       "      <td>1</td>\n",
       "      <td>2</td>\n",
       "      <td>5</td>\n",
       "      <td>4</td>\n",
       "      <td>2015-02-05</td>\n",
       "      <td>EV</td>\n",
       "      <td>20366</td>\n",
       "      <td>EV</td>\n",
       "      <td>N615QX</td>\n",
       "      <td>...</td>\n",
       "      <td>NaN</td>\n",
       "      <td>NaN</td>\n",
       "      <td>NaN</td>\n",
       "      <td>NaN</td>\n",
       "      <td>NaN</td>\n",
       "      <td>NaN</td>\n",
       "      <td>NaN</td>\n",
       "      <td>NaN</td>\n",
       "      <td>NaN</td>\n",
       "      <td>NaN</td>\n",
       "    </tr>\n",
       "    <tr>\n",
       "      <th>135654</th>\n",
       "      <td>2015</td>\n",
       "      <td>1</td>\n",
       "      <td>2</td>\n",
       "      <td>10</td>\n",
       "      <td>2</td>\n",
       "      <td>2015-02-10</td>\n",
       "      <td>AA</td>\n",
       "      <td>19805</td>\n",
       "      <td>AA</td>\n",
       "      <td>N3JBAA</td>\n",
       "      <td>...</td>\n",
       "      <td>NaN</td>\n",
       "      <td>NaN</td>\n",
       "      <td>NaN</td>\n",
       "      <td>NaN</td>\n",
       "      <td>NaN</td>\n",
       "      <td>NaN</td>\n",
       "      <td>NaN</td>\n",
       "      <td>NaN</td>\n",
       "      <td>NaN</td>\n",
       "      <td>NaN</td>\n",
       "    </tr>\n",
       "    <tr>\n",
       "      <th>39860</th>\n",
       "      <td>2015</td>\n",
       "      <td>1</td>\n",
       "      <td>2</td>\n",
       "      <td>6</td>\n",
       "      <td>5</td>\n",
       "      <td>2015-02-06</td>\n",
       "      <td>EV</td>\n",
       "      <td>20366</td>\n",
       "      <td>EV</td>\n",
       "      <td>N16561</td>\n",
       "      <td>...</td>\n",
       "      <td>NaN</td>\n",
       "      <td>NaN</td>\n",
       "      <td>NaN</td>\n",
       "      <td>NaN</td>\n",
       "      <td>NaN</td>\n",
       "      <td>NaN</td>\n",
       "      <td>NaN</td>\n",
       "      <td>NaN</td>\n",
       "      <td>NaN</td>\n",
       "      <td>NaN</td>\n",
       "    </tr>\n",
       "  </tbody>\n",
       "</table>\n",
       "<p>5 rows × 110 columns</p>\n",
       "</div>"
      ],
      "text/plain": [
       "        Year  Quarter  Month  DayofMonth  DayOfWeek  FlightDate UniqueCarrier  \\\n",
       "290922  2015        1      2          21          6  2015-02-21            WN   \n",
       "395243  2015        1      2           9          1  2015-02-09            UA   \n",
       "56134   2015        1      2           5          4  2015-02-05            EV   \n",
       "135654  2015        1      2          10          2  2015-02-10            AA   \n",
       "39860   2015        1      2           6          5  2015-02-06            EV   \n",
       "\n",
       "        AirlineID Carrier TailNum      ...       Div4TailNum  Div5Airport  \\\n",
       "290922      19393      WN  N616SW      ...               NaN          NaN   \n",
       "395243      19977      UA  N77295      ...               NaN          NaN   \n",
       "56134       20366      EV  N615QX      ...               NaN          NaN   \n",
       "135654      19805      AA  N3JBAA      ...               NaN          NaN   \n",
       "39860       20366      EV  N16561      ...               NaN          NaN   \n",
       "\n",
       "        Div5AirportID  Div5AirportSeqID Div5WheelsOn Div5TotalGTime  \\\n",
       "290922            NaN               NaN          NaN            NaN   \n",
       "395243            NaN               NaN          NaN            NaN   \n",
       "56134             NaN               NaN          NaN            NaN   \n",
       "135654            NaN               NaN          NaN            NaN   \n",
       "39860             NaN               NaN          NaN            NaN   \n",
       "\n",
       "       Div5LongestGTime  Div5WheelsOff Div5TailNum  Unnamed: 109  \n",
       "290922              NaN            NaN         NaN           NaN  \n",
       "395243              NaN            NaN         NaN           NaN  \n",
       "56134               NaN            NaN         NaN           NaN  \n",
       "135654              NaN            NaN         NaN           NaN  \n",
       "39860               NaN            NaN         NaN           NaN  \n",
       "\n",
       "[5 rows x 110 columns]"
      ]
     },
     "execution_count": 118,
     "metadata": {},
     "output_type": "execute_result"
    }
   ],
   "source": [
    "df2 = df[['FlightDate', 'DayOfWeek', 'Carrier', 'TailNum', 'FlightNum', 'Origin', \n",
    "         'OriginCityName', 'OriginStateName', 'Dest', 'DestCityName', 'DestStateName',\n",
    "         'DepTime', 'DepDelay', 'AirTime', 'Distance']]\n",
    "df.sample(5)"
   ]
  },
  {
   "cell_type": "code",
   "execution_count": null,
   "metadata": {},
   "outputs": [],
   "source": []
  },
  {
   "cell_type": "markdown",
   "metadata": {},
   "source": [
    "## Formatting columns and parsing dates and times\n",
    "\n",
    "Hurray! we have almost cleaned our dataset. Soon we will begin to do some actual work with it. "
   ]
  },
  {
   "cell_type": "code",
   "execution_count": 119,
   "metadata": {},
   "outputs": [
    {
     "data": {
      "text/plain": [
       "FlightDate          object\n",
       "DayOfWeek            int64\n",
       "Carrier             object\n",
       "TailNum             object\n",
       "FlightNum            int64\n",
       "Origin              object\n",
       "OriginCityName      object\n",
       "OriginStateName     object\n",
       "Dest                object\n",
       "DestCityName        object\n",
       "DestStateName       object\n",
       "DepTime            float64\n",
       "DepDelay           float64\n",
       "AirTime            float64\n",
       "Distance           float64\n",
       "dtype: object"
      ]
     },
     "execution_count": 119,
     "metadata": {},
     "output_type": "execute_result"
    }
   ],
   "source": [
    "df2.dtypes"
   ]
  },
  {
   "cell_type": "markdown",
   "metadata": {},
   "source": [
    "Pandas interpreted the Deptime column as ints and the FlighDate column as strings. We want to combine them and parse them into a DateTime column, so that we can use them properly as datetimes."
   ]
  },
  {
   "cell_type": "markdown",
   "metadata": {},
   "source": [
    "First step:\n",
    "\n",
    "#### Exercise\n",
    "\n",
    "Define a function that will parse our int hours into a reasonable format (\"HH:MM\"). It should take only one int hour and return the appropriate representation."
   ]
  },
  {
   "cell_type": "code",
   "execution_count": 110,
   "metadata": {},
   "outputs": [],
   "source": [
    "#Defina una función que analizará nuestras horas int en un formato razonable (\"HH:MM\"). \n",
    "#Solo debería tomar una hora int y devolver la representación adecuada."
   ]
  },
  {
   "cell_type": "code",
   "execution_count": null,
   "metadata": {},
   "outputs": [],
   "source": [
    "#ejemplo de un numero 5:10 nos sale reflejado 510, lo sacamos con resto de 100 y divisible de 100"
   ]
  },
  {
   "cell_type": "code",
   "execution_count": 156,
   "metadata": {},
   "outputs": [],
   "source": [
    "#coger la hora de la colunma deptime que devuelva hh mm\n",
    "def deptime_to_string (num):   \n",
    "    hour = int (num/100) % 24\n",
    "    minutos = int(num % 100)\n",
    "    \n",
    "    return \"%02d:%02d\" % (hour, minutos)"
   ]
  },
  {
   "cell_type": "code",
   "execution_count": 133,
   "metadata": {},
   "outputs": [
    {
     "data": {
      "text/plain": [
       "'15:15'"
      ]
     },
     "execution_count": 133,
     "metadata": {},
     "output_type": "execute_result"
    }
   ],
   "source": [
    "deptime_to_string(1515)"
   ]
  },
  {
   "cell_type": "code",
   "execution_count": null,
   "metadata": {},
   "outputs": [],
   "source": []
  },
  {
   "cell_type": "code",
   "execution_count": null,
   "metadata": {},
   "outputs": [],
   "source": []
  },
  {
   "cell_type": "code",
   "execution_count": null,
   "metadata": {},
   "outputs": [],
   "source": [
    "# We'll need to take an int and return a string of the appropriate format\n",
    "import numpy as np\n",
    "def deptime_to_string(num):\n",
    "    if num!=num:#If np.nan better handle this\n",
    "        num =0.0;\n",
    "\n",
    "    hour = int(num / 100) % 24 # There are 24s in the data, which datetime doesn't like\n",
    "    minute = int(num % 100)\n",
    "    \n",
    "\n",
    "    return '%02d:%02d' % (hour, minute)\n",
    "\n",
    "deptime_to_string(2423.0)\n",
    "#deptime_to_string(np.nan)"
   ]
  },
  {
   "cell_type": "markdown",
   "metadata": {},
   "source": [
    "Now, we can use that function to build datetime strings that we will then pass to pd.to_datetime, with a format we will specify. Let's do that\n",
    "\n",
    "Hint: Check out [pd.to_datetime's documentatoin](http://pandas.pydata.org/pandas-docs/stable/generated/pandas.to_datetime.html) for info on the acceptable format."
   ]
  },
  {
   "cell_type": "markdown",
   "metadata": {},
   "source": [
    "#### Exercise\n",
    "\n",
    "Overwrite the 'DepTime' column with its version in the proper format\n",
    "\n",
    "Hint: Before overwriting your column in the dataframe, make sure that everything works by assigning the modified column to a Series variable (this takes care of not messing up with the index!)."
   ]
  },
  {
   "cell_type": "code",
   "execution_count": 131,
   "metadata": {},
   "outputs": [],
   "source": [
    "#Sobrescriba la columna 'DepTime' con su versión en el formato adecuado\n",
    "#Sugerencia: antes de sobreescribir su columna en el marco de datos,\n",
    "#asegúrese de que todo funciona asignando la columna modificada a\n",
    "#una variable de serie (¡esto se ocupa de no estropear el índice!)."
   ]
  },
  {
   "cell_type": "code",
   "execution_count": 158,
   "metadata": {},
   "outputs": [
    {
     "data": {
      "text/plain": [
       "0    09:59\n",
       "1    17:17\n",
       "2    11:32\n",
       "3    22:01\n",
       "4    19:41\n",
       "Name: DepTime, dtype: object"
      ]
     },
     "execution_count": 158,
     "metadata": {},
     "output_type": "execute_result"
    }
   ],
   "source": [
    "#aplicamos una funcion creada por nonosotros en una columna. como nos va a dar eror por los NaN hay que quitarlo\n",
    "\n",
    "serie = df2[\"DepTime\"].dropna().apply(deptime_to_string)\n",
    "serie.head()"
   ]
  },
  {
   "cell_type": "code",
   "execution_count": 159,
   "metadata": {},
   "outputs": [
    {
     "data": {
      "text/plain": [
       "(409132,)"
      ]
     },
     "execution_count": 159,
     "metadata": {},
     "output_type": "execute_result"
    }
   ],
   "source": [
    "serie.shape"
   ]
  },
  {
   "cell_type": "code",
   "execution_count": 160,
   "metadata": {},
   "outputs": [
    {
     "data": {
      "text/plain": [
       "(429191,)"
      ]
     },
     "execution_count": 160,
     "metadata": {},
     "output_type": "execute_result"
    }
   ],
   "source": [
    "#comparamos con el total\n",
    "df2[\"DepTime\"].shape"
   ]
  },
  {
   "cell_type": "code",
   "execution_count": null,
   "metadata": {},
   "outputs": [],
   "source": []
  },
  {
   "cell_type": "code",
   "execution_count": null,
   "metadata": {},
   "outputs": [],
   "source": []
  },
  {
   "cell_type": "code",
   "execution_count": 161,
   "metadata": {},
   "outputs": [
    {
     "data": {
      "text/plain": [
       "0    09:59\n",
       "1    17:17\n",
       "2    11:32\n",
       "3    22:01\n",
       "4    19:41\n",
       "Name: DepTime, dtype: object"
      ]
     },
     "execution_count": 161,
     "metadata": {},
     "output_type": "execute_result"
    }
   ],
   "source": [
    "#series = df2['DepTime'].apply(deptime_to_string)\n",
    "series = df2['DepTime'].dropna().apply(deptime_to_string)\n",
    "series.head()"
   ]
  },
  {
   "cell_type": "code",
   "execution_count": 162,
   "metadata": {},
   "outputs": [
    {
     "name": "stderr",
     "output_type": "stream",
     "text": [
      "/home/dsc/anaconda3/lib/python3.6/site-packages/ipykernel_launcher.py:1: SettingWithCopyWarning: \n",
      "A value is trying to be set on a copy of a slice from a DataFrame.\n",
      "Try using .loc[row_indexer,col_indexer] = value instead\n",
      "\n",
      "See the caveats in the documentation: http://pandas.pydata.org/pandas-docs/stable/indexing.html#indexing-view-versus-copy\n",
      "  \"\"\"Entry point for launching an IPython kernel.\n"
     ]
    }
   ],
   "source": [
    "df2['DepTimeStr'] = series"
   ]
  },
  {
   "cell_type": "code",
   "execution_count": 163,
   "metadata": {},
   "outputs": [
    {
     "data": {
      "text/plain": [
       "409132"
      ]
     },
     "execution_count": 163,
     "metadata": {},
     "output_type": "execute_result"
    }
   ],
   "source": [
    "# What happened to the nas? They are still nas, because our \n",
    "# Series didn't contain them. Therefore, when we put the \n",
    "# Series back into the Dataframe, those cells stayed empty.\n",
    "df2['DepTimeStr'].count()"
   ]
  },
  {
   "cell_type": "markdown",
   "metadata": {},
   "source": [
    "#### Exercise\n",
    "\n",
    "Now, create a DepDateTime with the proper type using `pd.to_datetime`"
   ]
  },
  {
   "cell_type": "code",
   "execution_count": 164,
   "metadata": {
    "scrolled": false
   },
   "outputs": [
    {
     "data": {
      "text/plain": [
       "0    09:59\n",
       "1    17:17\n",
       "2    11:32\n",
       "3    22:01\n",
       "4    19:41\n",
       "Name: DepTimeStr, dtype: object"
      ]
     },
     "execution_count": 164,
     "metadata": {},
     "output_type": "execute_result"
    }
   ],
   "source": [
    "df2[\"DepTimeStr\"].head()"
   ]
  },
  {
   "cell_type": "code",
   "execution_count": 165,
   "metadata": {},
   "outputs": [
    {
     "data": {
      "text/plain": [
       "0    2015-02-07\n",
       "1    2015-02-07\n",
       "2    2015-02-07\n",
       "3    2015-02-07\n",
       "4    2015-02-07\n",
       "Name: FlightDate, dtype: object"
      ]
     },
     "execution_count": 165,
     "metadata": {},
     "output_type": "execute_result"
    }
   ],
   "source": [
    "df2[\"FlightDate\"].head()"
   ]
  },
  {
   "cell_type": "code",
   "execution_count": null,
   "metadata": {},
   "outputs": [],
   "source": [
    "#creamos una columna nueva y borramos lo que queremos, ya la hemos ejecutado y dara error\n",
    "\n",
    "#creamos una colmuna combinando columnas\n",
    "departure_datetimes = pd.to_datetime(df2['FlightDate'] + ' ' + df2['DepTimeStr'])\n",
    "df2['DepDateTime'] = departure_datetimes\n",
    "\n",
    "# Drop the now-redundant columns\n",
    "df2 = df2.drop(['FlightDate', 'DepTime', 'DepTimeStr'], axis=1)"
   ]
  },
  {
   "cell_type": "code",
   "execution_count": null,
   "metadata": {},
   "outputs": [],
   "source": []
  },
  {
   "cell_type": "code",
   "execution_count": null,
   "metadata": {},
   "outputs": [],
   "source": []
  },
  {
   "cell_type": "code",
   "execution_count": 152,
   "metadata": {},
   "outputs": [
    {
     "data": {
      "text/plain": [
       "Timestamp('2015-01-15 08:30:00')"
      ]
     },
     "execution_count": 152,
     "metadata": {},
     "output_type": "execute_result"
    }
   ],
   "source": [
    "# This is the format pd.to_datetime needs:\n",
    "\n",
    "ts = pd.to_datetime('2015-01-15 08:30')\n",
    "ts"
   ]
  },
  {
   "cell_type": "code",
   "execution_count": 182,
   "metadata": {},
   "outputs": [
    {
     "data": {
      "text/html": [
       "<div>\n",
       "<style scoped>\n",
       "    .dataframe tbody tr th:only-of-type {\n",
       "        vertical-align: middle;\n",
       "    }\n",
       "\n",
       "    .dataframe tbody tr th {\n",
       "        vertical-align: top;\n",
       "    }\n",
       "\n",
       "    .dataframe thead th {\n",
       "        text-align: right;\n",
       "    }\n",
       "</style>\n",
       "<table border=\"1\" class=\"dataframe\">\n",
       "  <thead>\n",
       "    <tr style=\"text-align: right;\">\n",
       "      <th></th>\n",
       "      <th>DayOfWeek</th>\n",
       "      <th>Carrier</th>\n",
       "      <th>TailNum</th>\n",
       "      <th>FlightNum</th>\n",
       "      <th>Origin</th>\n",
       "      <th>OriginCityName</th>\n",
       "      <th>OriginStateName</th>\n",
       "      <th>Dest</th>\n",
       "      <th>DestCityName</th>\n",
       "      <th>DestStateName</th>\n",
       "      <th>DepDelay</th>\n",
       "      <th>AirTime</th>\n",
       "      <th>Distance</th>\n",
       "      <th>DepDateTime</th>\n",
       "    </tr>\n",
       "  </thead>\n",
       "  <tbody>\n",
       "    <tr>\n",
       "      <th>415260</th>\n",
       "      <td>5</td>\n",
       "      <td>US</td>\n",
       "      <td>N751UW</td>\n",
       "      <td>1938</td>\n",
       "      <td>CLT</td>\n",
       "      <td>Charlotte, NC</td>\n",
       "      <td>North Carolina</td>\n",
       "      <td>ORF</td>\n",
       "      <td>Norfolk, VA</td>\n",
       "      <td>Virginia</td>\n",
       "      <td>4.0</td>\n",
       "      <td>49.0</td>\n",
       "      <td>290.0</td>\n",
       "      <td>2015-02-06 20:24:00</td>\n",
       "    </tr>\n",
       "    <tr>\n",
       "      <th>258307</th>\n",
       "      <td>1</td>\n",
       "      <td>WN</td>\n",
       "      <td>N368SW</td>\n",
       "      <td>4564</td>\n",
       "      <td>LAX</td>\n",
       "      <td>Los Angeles, CA</td>\n",
       "      <td>California</td>\n",
       "      <td>PHX</td>\n",
       "      <td>Phoenix, AZ</td>\n",
       "      <td>Arizona</td>\n",
       "      <td>5.0</td>\n",
       "      <td>55.0</td>\n",
       "      <td>370.0</td>\n",
       "      <td>2015-02-09 09:50:00</td>\n",
       "    </tr>\n",
       "    <tr>\n",
       "      <th>151962</th>\n",
       "      <td>4</td>\n",
       "      <td>AS</td>\n",
       "      <td>N553AS</td>\n",
       "      <td>14</td>\n",
       "      <td>SEA</td>\n",
       "      <td>Seattle, WA</td>\n",
       "      <td>Washington</td>\n",
       "      <td>EWR</td>\n",
       "      <td>Newark, NJ</td>\n",
       "      <td>New Jersey</td>\n",
       "      <td>6.0</td>\n",
       "      <td>276.0</td>\n",
       "      <td>2402.0</td>\n",
       "      <td>2015-02-19 16:01:00</td>\n",
       "    </tr>\n",
       "    <tr>\n",
       "      <th>116613</th>\n",
       "      <td>5</td>\n",
       "      <td>AA</td>\n",
       "      <td>N019AA</td>\n",
       "      <td>971</td>\n",
       "      <td>DFW</td>\n",
       "      <td>Dallas/Fort Worth, TX</td>\n",
       "      <td>Texas</td>\n",
       "      <td>ELP</td>\n",
       "      <td>El Paso, TX</td>\n",
       "      <td>Texas</td>\n",
       "      <td>-5.0</td>\n",
       "      <td>86.0</td>\n",
       "      <td>551.0</td>\n",
       "      <td>2015-02-20 11:40:00</td>\n",
       "    </tr>\n",
       "    <tr>\n",
       "      <th>84062</th>\n",
       "      <td>2</td>\n",
       "      <td>MQ</td>\n",
       "      <td>N696MQ</td>\n",
       "      <td>3156</td>\n",
       "      <td>SJT</td>\n",
       "      <td>San Angelo, TX</td>\n",
       "      <td>Texas</td>\n",
       "      <td>DFW</td>\n",
       "      <td>Dallas/Fort Worth, TX</td>\n",
       "      <td>Texas</td>\n",
       "      <td>-3.0</td>\n",
       "      <td>41.0</td>\n",
       "      <td>229.0</td>\n",
       "      <td>2015-02-10 12:02:00</td>\n",
       "    </tr>\n",
       "  </tbody>\n",
       "</table>\n",
       "</div>"
      ],
      "text/plain": [
       "        DayOfWeek Carrier TailNum  FlightNum Origin         OriginCityName  \\\n",
       "415260          5      US  N751UW       1938    CLT          Charlotte, NC   \n",
       "258307          1      WN  N368SW       4564    LAX        Los Angeles, CA   \n",
       "151962          4      AS  N553AS         14    SEA            Seattle, WA   \n",
       "116613          5      AA  N019AA        971    DFW  Dallas/Fort Worth, TX   \n",
       "84062           2      MQ  N696MQ       3156    SJT         San Angelo, TX   \n",
       "\n",
       "       OriginStateName Dest           DestCityName DestStateName  DepDelay  \\\n",
       "415260  North Carolina  ORF            Norfolk, VA      Virginia       4.0   \n",
       "258307      California  PHX            Phoenix, AZ       Arizona       5.0   \n",
       "151962      Washington  EWR             Newark, NJ    New Jersey       6.0   \n",
       "116613           Texas  ELP            El Paso, TX         Texas      -5.0   \n",
       "84062            Texas  DFW  Dallas/Fort Worth, TX         Texas      -3.0   \n",
       "\n",
       "        AirTime  Distance         DepDateTime  \n",
       "415260     49.0     290.0 2015-02-06 20:24:00  \n",
       "258307     55.0     370.0 2015-02-09 09:50:00  \n",
       "151962    276.0    2402.0 2015-02-19 16:01:00  \n",
       "116613     86.0     551.0 2015-02-20 11:40:00  \n",
       "84062      41.0     229.0 2015-02-10 12:02:00  "
      ]
     },
     "execution_count": 182,
     "metadata": {},
     "output_type": "execute_result"
    }
   ],
   "source": [
    "df2.sample(5)"
   ]
  },
  {
   "cell_type": "markdown",
   "metadata": {},
   "source": [
    "### Inspect the types, see if everything is in order"
   ]
  },
  {
   "cell_type": "code",
   "execution_count": 183,
   "metadata": {},
   "outputs": [
    {
     "data": {
      "text/plain": [
       "DayOfWeek                   int64\n",
       "Carrier                    object\n",
       "TailNum                    object\n",
       "FlightNum                   int64\n",
       "Origin                     object\n",
       "OriginCityName             object\n",
       "OriginStateName            object\n",
       "Dest                       object\n",
       "DestCityName               object\n",
       "DestStateName              object\n",
       "DepDelay                  float64\n",
       "AirTime                   float64\n",
       "Distance                  float64\n",
       "DepDateTime        datetime64[ns]\n",
       "dtype: object"
      ]
     },
     "execution_count": 183,
     "metadata": {},
     "output_type": "execute_result"
    }
   ],
   "source": [
    "df2.dtypes"
   ]
  },
  {
   "cell_type": "markdown",
   "metadata": {},
   "source": [
    "## Examining the data"
   ]
  },
  {
   "cell_type": "markdown",
   "metadata": {},
   "source": [
    "Finally clean! Let's start to do some preliminary work on the data."
   ]
  },
  {
   "cell_type": "markdown",
   "metadata": {},
   "source": [
    "#### Exercise:\n",
    "\n",
    "Find the biggest delays. \n",
    "\n",
    "How would you find the 5 maximum delays?"
   ]
  },
  {
   "cell_type": "code",
   "execution_count": 190,
   "metadata": {},
   "outputs": [
    {
     "data": {
      "text/plain": [
       "315375    73.0\n",
       "223427    13.0\n",
       "422018    -9.0\n",
       "194308    -9.0\n",
       "258695    -4.0\n",
       "Name: DepDelay, dtype: float64"
      ]
     },
     "execution_count": 190,
     "metadata": {},
     "output_type": "execute_result"
    }
   ],
   "source": [
    "#poner los maximos depDelay\n",
    "#primero vemos que hay\n",
    "\n",
    "df2[\"DepDelay\"].sample(5)"
   ]
  },
  {
   "cell_type": "code",
   "execution_count": 195,
   "metadata": {},
   "outputs": [
    {
     "data": {
      "text/html": [
       "<div>\n",
       "<style scoped>\n",
       "    .dataframe tbody tr th:only-of-type {\n",
       "        vertical-align: middle;\n",
       "    }\n",
       "\n",
       "    .dataframe tbody tr th {\n",
       "        vertical-align: top;\n",
       "    }\n",
       "\n",
       "    .dataframe thead th {\n",
       "        text-align: right;\n",
       "    }\n",
       "</style>\n",
       "<table border=\"1\" class=\"dataframe\">\n",
       "  <thead>\n",
       "    <tr style=\"text-align: right;\">\n",
       "      <th></th>\n",
       "      <th>DayOfWeek</th>\n",
       "      <th>Carrier</th>\n",
       "      <th>TailNum</th>\n",
       "      <th>FlightNum</th>\n",
       "      <th>Origin</th>\n",
       "      <th>OriginCityName</th>\n",
       "      <th>OriginStateName</th>\n",
       "      <th>Dest</th>\n",
       "      <th>DestCityName</th>\n",
       "      <th>DestStateName</th>\n",
       "      <th>DepDelay</th>\n",
       "      <th>AirTime</th>\n",
       "      <th>Distance</th>\n",
       "      <th>DepDateTime</th>\n",
       "    </tr>\n",
       "  </thead>\n",
       "  <tbody>\n",
       "    <tr>\n",
       "      <th>126203</th>\n",
       "      <td>6</td>\n",
       "      <td>AA</td>\n",
       "      <td>N028AA</td>\n",
       "      <td>1312</td>\n",
       "      <td>STL</td>\n",
       "      <td>St. Louis, MO</td>\n",
       "      <td>Missouri</td>\n",
       "      <td>MIA</td>\n",
       "      <td>Miami, FL</td>\n",
       "      <td>Florida</td>\n",
       "      <td>1587.0</td>\n",
       "      <td>131.0</td>\n",
       "      <td>1068.0</td>\n",
       "      <td>2015-02-28 08:47:00</td>\n",
       "    </tr>\n",
       "    <tr>\n",
       "      <th>117050</th>\n",
       "      <td>7</td>\n",
       "      <td>AA</td>\n",
       "      <td>N007AA</td>\n",
       "      <td>1080</td>\n",
       "      <td>EGE</td>\n",
       "      <td>Eagle, CO</td>\n",
       "      <td>Colorado</td>\n",
       "      <td>ORD</td>\n",
       "      <td>Chicago, IL</td>\n",
       "      <td>Illinois</td>\n",
       "      <td>1457.0</td>\n",
       "      <td>123.0</td>\n",
       "      <td>1007.0</td>\n",
       "      <td>2015-02-22 14:32:00</td>\n",
       "    </tr>\n",
       "    <tr>\n",
       "      <th>73864</th>\n",
       "      <td>7</td>\n",
       "      <td>HA</td>\n",
       "      <td>N374HA</td>\n",
       "      <td>50</td>\n",
       "      <td>HNL</td>\n",
       "      <td>Honolulu, HI</td>\n",
       "      <td>Hawaii</td>\n",
       "      <td>JFK</td>\n",
       "      <td>New York, NY</td>\n",
       "      <td>New York</td>\n",
       "      <td>1433.0</td>\n",
       "      <td>498.0</td>\n",
       "      <td>4983.0</td>\n",
       "      <td>2015-02-08 16:23:00</td>\n",
       "    </tr>\n",
       "    <tr>\n",
       "      <th>73885</th>\n",
       "      <td>1</td>\n",
       "      <td>HA</td>\n",
       "      <td>N374HA</td>\n",
       "      <td>51</td>\n",
       "      <td>JFK</td>\n",
       "      <td>New York, NY</td>\n",
       "      <td>New York</td>\n",
       "      <td>HNL</td>\n",
       "      <td>Honolulu, HI</td>\n",
       "      <td>Hawaii</td>\n",
       "      <td>1429.0</td>\n",
       "      <td>684.0</td>\n",
       "      <td>4983.0</td>\n",
       "      <td>2015-02-09 09:24:00</td>\n",
       "    </tr>\n",
       "    <tr>\n",
       "      <th>131625</th>\n",
       "      <td>4</td>\n",
       "      <td>AA</td>\n",
       "      <td>N3ASAA</td>\n",
       "      <td>1564</td>\n",
       "      <td>PHX</td>\n",
       "      <td>Phoenix, AZ</td>\n",
       "      <td>Arizona</td>\n",
       "      <td>ORD</td>\n",
       "      <td>Chicago, IL</td>\n",
       "      <td>Illinois</td>\n",
       "      <td>1367.0</td>\n",
       "      <td>167.0</td>\n",
       "      <td>1440.0</td>\n",
       "      <td>2015-02-19 05:54:00</td>\n",
       "    </tr>\n",
       "  </tbody>\n",
       "</table>\n",
       "</div>"
      ],
      "text/plain": [
       "        DayOfWeek Carrier TailNum  FlightNum Origin OriginCityName  \\\n",
       "126203          6      AA  N028AA       1312    STL  St. Louis, MO   \n",
       "117050          7      AA  N007AA       1080    EGE      Eagle, CO   \n",
       "73864           7      HA  N374HA         50    HNL   Honolulu, HI   \n",
       "73885           1      HA  N374HA         51    JFK   New York, NY   \n",
       "131625          4      AA  N3ASAA       1564    PHX    Phoenix, AZ   \n",
       "\n",
       "       OriginStateName Dest  DestCityName DestStateName  DepDelay  AirTime  \\\n",
       "126203        Missouri  MIA     Miami, FL       Florida    1587.0    131.0   \n",
       "117050        Colorado  ORD   Chicago, IL      Illinois    1457.0    123.0   \n",
       "73864           Hawaii  JFK  New York, NY      New York    1433.0    498.0   \n",
       "73885         New York  HNL  Honolulu, HI        Hawaii    1429.0    684.0   \n",
       "131625         Arizona  ORD   Chicago, IL      Illinois    1367.0    167.0   \n",
       "\n",
       "        Distance         DepDateTime  \n",
       "126203    1068.0 2015-02-28 08:47:00  \n",
       "117050    1007.0 2015-02-22 14:32:00  \n",
       "73864     4983.0 2015-02-08 16:23:00  \n",
       "73885     4983.0 2015-02-09 09:24:00  \n",
       "131625    1440.0 2015-02-19 05:54:00  "
      ]
     },
     "execution_count": 195,
     "metadata": {},
     "output_type": "execute_result"
    }
   ],
   "source": [
    "#buscar los maximos\n",
    "#by donde buscas\n",
    "#ascension false al contratio\n",
    "\n",
    "df2.sort_values(by = \"DepDelay\",ascending = False).head()"
   ]
  },
  {
   "cell_type": "markdown",
   "metadata": {},
   "source": [
    "#### Exercise\n",
    "\n",
    "What was the average delay for this month? Standard deviation and typical value?"
   ]
  },
  {
   "cell_type": "code",
   "execution_count": 196,
   "metadata": {},
   "outputs": [
    {
     "data": {
      "text/plain": [
       "count    409132.000000\n",
       "mean         11.885284\n",
       "std          40.143735\n",
       "min         -61.000000\n",
       "25%          -4.000000\n",
       "50%          -1.000000\n",
       "75%          11.000000\n",
       "max        1587.000000\n",
       "Name: DepDelay, dtype: float64"
      ]
     },
     "execution_count": 196,
     "metadata": {},
     "output_type": "execute_result"
    }
   ],
   "source": [
    "#media y desviacion tipica\n",
    "\n",
    "#vemos:\n",
    "df2['DepDelay'].describe()"
   ]
  },
  {
   "cell_type": "code",
   "execution_count": null,
   "metadata": {},
   "outputs": [],
   "source": []
  },
  {
   "cell_type": "code",
   "execution_count": null,
   "metadata": {},
   "outputs": [],
   "source": [
    "df2['DepDelay'].describe()"
   ]
  },
  {
   "cell_type": "markdown",
   "metadata": {},
   "source": [
    "Also: a quick look at the correlation between the numerical variables is extremely easy with pandas:"
   ]
  },
  {
   "cell_type": "code",
   "execution_count": null,
   "metadata": {},
   "outputs": [],
   "source": [
    "df2.corr()"
   ]
  },
  {
   "cell_type": "code",
   "execution_count": 197,
   "metadata": {},
   "outputs": [
    {
     "data": {
      "text/html": [
       "<div>\n",
       "<style scoped>\n",
       "    .dataframe tbody tr th:only-of-type {\n",
       "        vertical-align: middle;\n",
       "    }\n",
       "\n",
       "    .dataframe tbody tr th {\n",
       "        vertical-align: top;\n",
       "    }\n",
       "\n",
       "    .dataframe thead th {\n",
       "        text-align: right;\n",
       "    }\n",
       "</style>\n",
       "<table border=\"1\" class=\"dataframe\">\n",
       "  <thead>\n",
       "    <tr style=\"text-align: right;\">\n",
       "      <th></th>\n",
       "      <th>DayOfWeek</th>\n",
       "      <th>FlightNum</th>\n",
       "      <th>DepDelay</th>\n",
       "      <th>AirTime</th>\n",
       "      <th>Distance</th>\n",
       "    </tr>\n",
       "  </thead>\n",
       "  <tbody>\n",
       "    <tr>\n",
       "      <th>DayOfWeek</th>\n",
       "      <td>1.000000</td>\n",
       "      <td>0.015379</td>\n",
       "      <td>-0.018116</td>\n",
       "      <td>0.015865</td>\n",
       "      <td>0.021141</td>\n",
       "    </tr>\n",
       "    <tr>\n",
       "      <th>FlightNum</th>\n",
       "      <td>0.015379</td>\n",
       "      <td>1.000000</td>\n",
       "      <td>0.002797</td>\n",
       "      <td>-0.333575</td>\n",
       "      <td>-0.349537</td>\n",
       "    </tr>\n",
       "    <tr>\n",
       "      <th>DepDelay</th>\n",
       "      <td>-0.018116</td>\n",
       "      <td>0.002797</td>\n",
       "      <td>1.000000</td>\n",
       "      <td>0.021388</td>\n",
       "      <td>0.020472</td>\n",
       "    </tr>\n",
       "    <tr>\n",
       "      <th>AirTime</th>\n",
       "      <td>0.015865</td>\n",
       "      <td>-0.333575</td>\n",
       "      <td>0.021388</td>\n",
       "      <td>1.000000</td>\n",
       "      <td>0.977982</td>\n",
       "    </tr>\n",
       "    <tr>\n",
       "      <th>Distance</th>\n",
       "      <td>0.021141</td>\n",
       "      <td>-0.349537</td>\n",
       "      <td>0.020472</td>\n",
       "      <td>0.977982</td>\n",
       "      <td>1.000000</td>\n",
       "    </tr>\n",
       "  </tbody>\n",
       "</table>\n",
       "</div>"
      ],
      "text/plain": [
       "           DayOfWeek  FlightNum  DepDelay   AirTime  Distance\n",
       "DayOfWeek   1.000000   0.015379 -0.018116  0.015865  0.021141\n",
       "FlightNum   0.015379   1.000000  0.002797 -0.333575 -0.349537\n",
       "DepDelay   -0.018116   0.002797  1.000000  0.021388  0.020472\n",
       "AirTime     0.015865  -0.333575  0.021388  1.000000  0.977982\n",
       "Distance    0.021141  -0.349537  0.020472  0.977982  1.000000"
      ]
     },
     "execution_count": 197,
     "metadata": {},
     "output_type": "execute_result"
    }
   ],
   "source": [
    "#saber la correlacion de retraso sobre el aeropuerto\n",
    "\n",
    "df2.corr()"
   ]
  },
  {
   "cell_type": "code",
   "execution_count": null,
   "metadata": {},
   "outputs": [],
   "source": []
  },
  {
   "cell_type": "markdown",
   "metadata": {},
   "source": [
    "#### Exercise\n",
    "\n",
    "What is the origin that has the highest average delay? We'll first group by tail number (the *license plate* of a plane) and then calculate the relevant statistic for each group (group of *departures*)"
   ]
  },
  {
   "cell_type": "code",
   "execution_count": 200,
   "metadata": {},
   "outputs": [],
   "source": [
    "#agrupar por variable origin\n",
    "\n",
    "grouped_by_plane = df2.groupby(\"Origin\")"
   ]
  },
  {
   "cell_type": "code",
   "execution_count": 206,
   "metadata": {},
   "outputs": [
    {
     "data": {
      "text/plain": [
       "Origin\n",
       "APN    14.093023\n",
       "AVL    17.442529\n",
       "MFE     8.714286\n",
       "CIU     7.687500\n",
       "MCO    12.472055\n",
       "Name: DepDelay, dtype: float64"
      ]
     },
     "execution_count": 206,
     "metadata": {},
     "output_type": "execute_result"
    }
   ],
   "source": [
    "#media de retraso sobre origen y muestro 5 ejemplos\n",
    "\n",
    "grouped_by_plane[\"DepDelay\"].mean().sample(5)"
   ]
  },
  {
   "cell_type": "code",
   "execution_count": 210,
   "metadata": {},
   "outputs": [
    {
     "data": {
      "text/html": [
       "<div>\n",
       "<style scoped>\n",
       "    .dataframe tbody tr th:only-of-type {\n",
       "        vertical-align: middle;\n",
       "    }\n",
       "\n",
       "    .dataframe tbody tr th {\n",
       "        vertical-align: top;\n",
       "    }\n",
       "\n",
       "    .dataframe thead th {\n",
       "        text-align: right;\n",
       "    }\n",
       "</style>\n",
       "<table border=\"1\" class=\"dataframe\">\n",
       "  <thead>\n",
       "    <tr style=\"text-align: right;\">\n",
       "      <th></th>\n",
       "      <th>DayOfWeek</th>\n",
       "      <th>FlightNum</th>\n",
       "      <th>DepDelay</th>\n",
       "      <th>AirTime</th>\n",
       "      <th>Distance</th>\n",
       "    </tr>\n",
       "    <tr>\n",
       "      <th>Origin</th>\n",
       "      <th></th>\n",
       "      <th></th>\n",
       "      <th></th>\n",
       "      <th></th>\n",
       "      <th></th>\n",
       "    </tr>\n",
       "  </thead>\n",
       "  <tbody>\n",
       "    <tr>\n",
       "      <th>ADQ</th>\n",
       "      <td>4.000000</td>\n",
       "      <td>40.000000</td>\n",
       "      <td>-6.458333</td>\n",
       "      <td>40.541667</td>\n",
       "      <td>253.000000</td>\n",
       "    </tr>\n",
       "    <tr>\n",
       "      <th>BPT</th>\n",
       "      <td>3.925926</td>\n",
       "      <td>2806.876543</td>\n",
       "      <td>14.684932</td>\n",
       "      <td>51.041096</td>\n",
       "      <td>270.000000</td>\n",
       "    </tr>\n",
       "    <tr>\n",
       "      <th>CAK</th>\n",
       "      <td>3.828794</td>\n",
       "      <td>2356.994163</td>\n",
       "      <td>7.735656</td>\n",
       "      <td>88.668033</td>\n",
       "      <td>581.503891</td>\n",
       "    </tr>\n",
       "    <tr>\n",
       "      <th>TTN</th>\n",
       "      <td>3.970874</td>\n",
       "      <td>929.126214</td>\n",
       "      <td>49.747423</td>\n",
       "      <td>126.259067</td>\n",
       "      <td>814.567961</td>\n",
       "    </tr>\n",
       "    <tr>\n",
       "      <th>HOU</th>\n",
       "      <td>3.828551</td>\n",
       "      <td>1563.888331</td>\n",
       "      <td>7.910319</td>\n",
       "      <td>94.553312</td>\n",
       "      <td>693.655428</td>\n",
       "    </tr>\n",
       "  </tbody>\n",
       "</table>\n",
       "</div>"
      ],
      "text/plain": [
       "        DayOfWeek    FlightNum   DepDelay     AirTime    Distance\n",
       "Origin                                                           \n",
       "ADQ      4.000000    40.000000  -6.458333   40.541667  253.000000\n",
       "BPT      3.925926  2806.876543  14.684932   51.041096  270.000000\n",
       "CAK      3.828794  2356.994163   7.735656   88.668033  581.503891\n",
       "TTN      3.970874   929.126214  49.747423  126.259067  814.567961\n",
       "HOU      3.828551  1563.888331   7.910319   94.553312  693.655428"
      ]
     },
     "execution_count": 210,
     "metadata": {},
     "output_type": "execute_result"
    }
   ],
   "source": [
    "df2.groupby(\"Origin\").mean().sample(5)"
   ]
  },
  {
   "cell_type": "code",
   "execution_count": 223,
   "metadata": {},
   "outputs": [
    {
     "data": {
      "text/html": [
       "<div>\n",
       "<style scoped>\n",
       "    .dataframe tbody tr th:only-of-type {\n",
       "        vertical-align: middle;\n",
       "    }\n",
       "\n",
       "    .dataframe tbody tr th {\n",
       "        vertical-align: top;\n",
       "    }\n",
       "\n",
       "    .dataframe thead th {\n",
       "        text-align: right;\n",
       "    }\n",
       "</style>\n",
       "<table border=\"1\" class=\"dataframe\">\n",
       "  <thead>\n",
       "    <tr style=\"text-align: right;\">\n",
       "      <th></th>\n",
       "      <th>DayOfWeek</th>\n",
       "      <th>FlightNum</th>\n",
       "      <th>DepDelay</th>\n",
       "      <th>AirTime</th>\n",
       "      <th>Distance</th>\n",
       "    </tr>\n",
       "    <tr>\n",
       "      <th>Origin</th>\n",
       "      <th></th>\n",
       "      <th></th>\n",
       "      <th></th>\n",
       "      <th></th>\n",
       "      <th></th>\n",
       "    </tr>\n",
       "  </thead>\n",
       "  <tbody>\n",
       "    <tr>\n",
       "      <th>TTN</th>\n",
       "      <td>3.970874</td>\n",
       "      <td>929.126214</td>\n",
       "      <td>49.747423</td>\n",
       "      <td>126.259067</td>\n",
       "      <td>814.567961</td>\n",
       "    </tr>\n",
       "    <tr>\n",
       "      <th>ILG</th>\n",
       "      <td>4.000000</td>\n",
       "      <td>1267.095238</td>\n",
       "      <td>40.789474</td>\n",
       "      <td>130.777778</td>\n",
       "      <td>863.095238</td>\n",
       "    </tr>\n",
       "    <tr>\n",
       "      <th>UST</th>\n",
       "      <td>3.076923</td>\n",
       "      <td>1050.615385</td>\n",
       "      <td>39.000000</td>\n",
       "      <td>106.000000</td>\n",
       "      <td>801.000000</td>\n",
       "    </tr>\n",
       "    <tr>\n",
       "      <th>SMX</th>\n",
       "      <td>4.000000</td>\n",
       "      <td>5881.160714</td>\n",
       "      <td>32.327273</td>\n",
       "      <td>37.127273</td>\n",
       "      <td>134.000000</td>\n",
       "    </tr>\n",
       "    <tr>\n",
       "      <th>JLN</th>\n",
       "      <td>4.000000</td>\n",
       "      <td>3202.500000</td>\n",
       "      <td>31.120000</td>\n",
       "      <td>58.812500</td>\n",
       "      <td>327.000000</td>\n",
       "    </tr>\n",
       "    <tr>\n",
       "      <th>PLN</th>\n",
       "      <td>3.653061</td>\n",
       "      <td>4704.755102</td>\n",
       "      <td>30.500000</td>\n",
       "      <td>43.760870</td>\n",
       "      <td>243.000000</td>\n",
       "    </tr>\n",
       "    <tr>\n",
       "      <th>MKG</th>\n",
       "      <td>4.000000</td>\n",
       "      <td>5396.500000</td>\n",
       "      <td>27.500000</td>\n",
       "      <td>30.869565</td>\n",
       "      <td>118.000000</td>\n",
       "    </tr>\n",
       "    <tr>\n",
       "      <th>SCE</th>\n",
       "      <td>4.084746</td>\n",
       "      <td>5677.796610</td>\n",
       "      <td>26.888889</td>\n",
       "      <td>91.648148</td>\n",
       "      <td>516.457627</td>\n",
       "    </tr>\n",
       "    <tr>\n",
       "      <th>SUX</th>\n",
       "      <td>3.846154</td>\n",
       "      <td>3277.692308</td>\n",
       "      <td>26.772727</td>\n",
       "      <td>64.795455</td>\n",
       "      <td>436.000000</td>\n",
       "    </tr>\n",
       "    <tr>\n",
       "      <th>OTH</th>\n",
       "      <td>4.250000</td>\n",
       "      <td>5394.000000</td>\n",
       "      <td>26.071429</td>\n",
       "      <td>66.357143</td>\n",
       "      <td>412.000000</td>\n",
       "    </tr>\n",
       "  </tbody>\n",
       "</table>\n",
       "</div>"
      ],
      "text/plain": [
       "        DayOfWeek    FlightNum   DepDelay     AirTime    Distance\n",
       "Origin                                                           \n",
       "TTN      3.970874   929.126214  49.747423  126.259067  814.567961\n",
       "ILG      4.000000  1267.095238  40.789474  130.777778  863.095238\n",
       "UST      3.076923  1050.615385  39.000000  106.000000  801.000000\n",
       "SMX      4.000000  5881.160714  32.327273   37.127273  134.000000\n",
       "JLN      4.000000  3202.500000  31.120000   58.812500  327.000000\n",
       "PLN      3.653061  4704.755102  30.500000   43.760870  243.000000\n",
       "MKG      4.000000  5396.500000  27.500000   30.869565  118.000000\n",
       "SCE      4.084746  5677.796610  26.888889   91.648148  516.457627\n",
       "SUX      3.846154  3277.692308  26.772727   64.795455  436.000000\n",
       "OTH      4.250000  5394.000000  26.071429   66.357143  412.000000"
      ]
     },
     "execution_count": 223,
     "metadata": {},
     "output_type": "execute_result"
    }
   ],
   "source": [
    "#mostrar los 10 mas altos de media de DepDelay\n",
    "df2.groupby(\"Origin\").mean().sort_values(by= \"DepDelay\", ascending=False).head(10)"
   ]
  },
  {
   "cell_type": "code",
   "execution_count": 227,
   "metadata": {},
   "outputs": [
    {
     "ename": "TypeError",
     "evalue": "'method' object is not subscriptable",
     "output_type": "error",
     "traceback": [
      "\u001b[0;31m---------------------------------------------------------------------------\u001b[0m",
      "\u001b[0;31mTypeError\u001b[0m                                 Traceback (most recent call last)",
      "\u001b[0;32m<ipython-input-227-5829dcd66cc4>\u001b[0m in \u001b[0;36m<module>\u001b[0;34m()\u001b[0m\n\u001b[1;32m      1\u001b[0m \u001b[0;31m#añadir tambien count, asique ya tenemos que poner count\u001b[0m\u001b[0;34m\u001b[0m\u001b[0;34m\u001b[0m\u001b[0m\n\u001b[1;32m      2\u001b[0m \u001b[0;34m\u001b[0m\u001b[0m\n\u001b[0;32m----> 3\u001b[0;31m \u001b[0mdf2\u001b[0m\u001b[0;34m.\u001b[0m\u001b[0mgroupby\u001b[0m\u001b[0;34m(\u001b[0m\u001b[0;34m\"Origin\"\u001b[0m\u001b[0;34m)\u001b[0m\u001b[0;34m.\u001b[0m\u001b[0magg\u001b[0m\u001b[0;34m[\u001b[0m\u001b[0;34m(\u001b[0m\u001b[0;34m\"mean\"\u001b[0m\u001b[0;34m,\u001b[0m \u001b[0;34m\"count\"\u001b[0m\u001b[0;34m)\u001b[0m\u001b[0;34m]\u001b[0m\u001b[0;34m.\u001b[0m\u001b[0msort_values\u001b[0m\u001b[0;34m(\u001b[0m\u001b[0mby\u001b[0m\u001b[0;34m=\u001b[0m \u001b[0;34m\"mean\"\u001b[0m\u001b[0;34m,\u001b[0m \u001b[0mascending\u001b[0m\u001b[0;34m=\u001b[0m\u001b[0;32mFalse\u001b[0m\u001b[0;34m)\u001b[0m\u001b[0;34m.\u001b[0m\u001b[0mhead\u001b[0m\u001b[0;34m(\u001b[0m\u001b[0;36m10\u001b[0m\u001b[0;34m)\u001b[0m\u001b[0;34m\u001b[0m\u001b[0m\n\u001b[0m",
      "\u001b[0;31mTypeError\u001b[0m: 'method' object is not subscriptable"
     ]
    }
   ],
   "source": [
    "#añadir tambien count, asique ya tenemos que poner count  ##esta mal\n",
    "\n",
    "df2.groupby(\"Origin\").agg[(\"mean\", \"count\")].sort_values(by= \"mean\", ascending=False).head(10)\n"
   ]
  },
  {
   "cell_type": "code",
   "execution_count": null,
   "metadata": {},
   "outputs": [],
   "source": []
  },
  {
   "cell_type": "code",
   "execution_count": null,
   "metadata": {},
   "outputs": [],
   "source": []
  },
  {
   "cell_type": "code",
   "execution_count": null,
   "metadata": {},
   "outputs": [],
   "source": []
  },
  {
   "cell_type": "code",
   "execution_count": null,
   "metadata": {},
   "outputs": [],
   "source": []
  },
  {
   "cell_type": "code",
   "execution_count": null,
   "metadata": {},
   "outputs": [],
   "source": []
  },
  {
   "cell_type": "code",
   "execution_count": null,
   "metadata": {},
   "outputs": [],
   "source": []
  },
  {
   "cell_type": "code",
   "execution_count": 229,
   "metadata": {},
   "outputs": [
    {
     "data": {
      "text/plain": [
       "pandas.core.groupby.DataFrameGroupBy"
      ]
     },
     "execution_count": 229,
     "metadata": {},
     "output_type": "execute_result"
    }
   ],
   "source": [
    "#grouped_by_plane = df2.groupby('TailNum')\n",
    "grouped_by_plane = df2.groupby('Origin')\n",
    "type(grouped_by_plane)"
   ]
  },
  {
   "cell_type": "code",
   "execution_count": 230,
   "metadata": {},
   "outputs": [
    {
     "data": {
      "text/plain": [
       "Origin\n",
       "TTN    49.747423\n",
       "ILG    40.789474\n",
       "UST    39.000000\n",
       "SMX    32.327273\n",
       "JLN    31.120000\n",
       "PLN    30.500000\n",
       "MKG    27.500000\n",
       "SCE    26.888889\n",
       "SUX    26.772727\n",
       "OTH    26.071429\n",
       "Name: DepDelay, dtype: float64"
      ]
     },
     "execution_count": 230,
     "metadata": {},
     "output_type": "execute_result"
    }
   ],
   "source": [
    "grouped_by_plane['DepDelay'].mean().sort_values(ascending=False).head(10)"
   ]
  },
  {
   "cell_type": "markdown",
   "metadata": {},
   "source": [
    "But the mean can be only meaningful if we had enough samples. Lets check that! We can aggregate *mean* and *count* at the same time."
   ]
  },
  {
   "cell_type": "code",
   "execution_count": 231,
   "metadata": {},
   "outputs": [],
   "source": [
    "#delays_by_plane = grouped_by_plane['DepDelay'].agg(['mean', 'count'])\n",
    "delays_by_origin = grouped_by_plane['DepDelay'].agg(['mean', 'count'])"
   ]
  },
  {
   "cell_type": "code",
   "execution_count": 232,
   "metadata": {
    "scrolled": true
   },
   "outputs": [
    {
     "data": {
      "text/html": [
       "<div>\n",
       "<style scoped>\n",
       "    .dataframe tbody tr th:only-of-type {\n",
       "        vertical-align: middle;\n",
       "    }\n",
       "\n",
       "    .dataframe tbody tr th {\n",
       "        vertical-align: top;\n",
       "    }\n",
       "\n",
       "    .dataframe thead th {\n",
       "        text-align: right;\n",
       "    }\n",
       "</style>\n",
       "<table border=\"1\" class=\"dataframe\">\n",
       "  <thead>\n",
       "    <tr style=\"text-align: right;\">\n",
       "      <th></th>\n",
       "      <th>mean</th>\n",
       "      <th>count</th>\n",
       "    </tr>\n",
       "    <tr>\n",
       "      <th>Origin</th>\n",
       "      <th></th>\n",
       "      <th></th>\n",
       "    </tr>\n",
       "  </thead>\n",
       "  <tbody>\n",
       "    <tr>\n",
       "      <th>TTN</th>\n",
       "      <td>49.747423</td>\n",
       "      <td>194</td>\n",
       "    </tr>\n",
       "    <tr>\n",
       "      <th>ILG</th>\n",
       "      <td>40.789474</td>\n",
       "      <td>19</td>\n",
       "    </tr>\n",
       "    <tr>\n",
       "      <th>UST</th>\n",
       "      <td>39.000000</td>\n",
       "      <td>11</td>\n",
       "    </tr>\n",
       "    <tr>\n",
       "      <th>SMX</th>\n",
       "      <td>32.327273</td>\n",
       "      <td>55</td>\n",
       "    </tr>\n",
       "    <tr>\n",
       "      <th>JLN</th>\n",
       "      <td>31.120000</td>\n",
       "      <td>50</td>\n",
       "    </tr>\n",
       "    <tr>\n",
       "      <th>PLN</th>\n",
       "      <td>30.500000</td>\n",
       "      <td>46</td>\n",
       "    </tr>\n",
       "    <tr>\n",
       "      <th>MKG</th>\n",
       "      <td>27.500000</td>\n",
       "      <td>46</td>\n",
       "    </tr>\n",
       "    <tr>\n",
       "      <th>SCE</th>\n",
       "      <td>26.888889</td>\n",
       "      <td>54</td>\n",
       "    </tr>\n",
       "    <tr>\n",
       "      <th>SUX</th>\n",
       "      <td>26.772727</td>\n",
       "      <td>44</td>\n",
       "    </tr>\n",
       "    <tr>\n",
       "      <th>OTH</th>\n",
       "      <td>26.071429</td>\n",
       "      <td>14</td>\n",
       "    </tr>\n",
       "    <tr>\n",
       "      <th>SWF</th>\n",
       "      <td>26.060606</td>\n",
       "      <td>66</td>\n",
       "    </tr>\n",
       "    <tr>\n",
       "      <th>PBG</th>\n",
       "      <td>25.357143</td>\n",
       "      <td>28</td>\n",
       "    </tr>\n",
       "    <tr>\n",
       "      <th>BQN</th>\n",
       "      <td>25.231707</td>\n",
       "      <td>82</td>\n",
       "    </tr>\n",
       "    <tr>\n",
       "      <th>SBN</th>\n",
       "      <td>24.646900</td>\n",
       "      <td>371</td>\n",
       "    </tr>\n",
       "    <tr>\n",
       "      <th>HPN</th>\n",
       "      <td>24.374798</td>\n",
       "      <td>619</td>\n",
       "    </tr>\n",
       "    <tr>\n",
       "      <th>GRI</th>\n",
       "      <td>24.083333</td>\n",
       "      <td>48</td>\n",
       "    </tr>\n",
       "    <tr>\n",
       "      <th>BGR</th>\n",
       "      <td>23.421053</td>\n",
       "      <td>19</td>\n",
       "    </tr>\n",
       "    <tr>\n",
       "      <th>CRW</th>\n",
       "      <td>23.337662</td>\n",
       "      <td>154</td>\n",
       "    </tr>\n",
       "    <tr>\n",
       "      <th>DBQ</th>\n",
       "      <td>22.904762</td>\n",
       "      <td>63</td>\n",
       "    </tr>\n",
       "    <tr>\n",
       "      <th>COU</th>\n",
       "      <td>22.303030</td>\n",
       "      <td>99</td>\n",
       "    </tr>\n",
       "    <tr>\n",
       "      <th>JFK</th>\n",
       "      <td>22.301747</td>\n",
       "      <td>7271</td>\n",
       "    </tr>\n",
       "    <tr>\n",
       "      <th>DRO</th>\n",
       "      <td>21.953333</td>\n",
       "      <td>150</td>\n",
       "    </tr>\n",
       "    <tr>\n",
       "      <th>LGA</th>\n",
       "      <td>21.899658</td>\n",
       "      <td>7893</td>\n",
       "    </tr>\n",
       "    <tr>\n",
       "      <th>ORD</th>\n",
       "      <td>21.832011</td>\n",
       "      <td>20162</td>\n",
       "    </tr>\n",
       "    <tr>\n",
       "      <th>CMI</th>\n",
       "      <td>21.279503</td>\n",
       "      <td>161</td>\n",
       "    </tr>\n",
       "    <tr>\n",
       "      <th>SGF</th>\n",
       "      <td>21.028630</td>\n",
       "      <td>489</td>\n",
       "    </tr>\n",
       "    <tr>\n",
       "      <th>INL</th>\n",
       "      <td>20.958333</td>\n",
       "      <td>48</td>\n",
       "    </tr>\n",
       "    <tr>\n",
       "      <th>ALO</th>\n",
       "      <td>20.955556</td>\n",
       "      <td>45</td>\n",
       "    </tr>\n",
       "    <tr>\n",
       "      <th>BOS</th>\n",
       "      <td>20.924010</td>\n",
       "      <td>7251</td>\n",
       "    </tr>\n",
       "    <tr>\n",
       "      <th>PAH</th>\n",
       "      <td>20.872340</td>\n",
       "      <td>47</td>\n",
       "    </tr>\n",
       "    <tr>\n",
       "      <th>...</th>\n",
       "      <td>...</td>\n",
       "      <td>...</td>\n",
       "    </tr>\n",
       "    <tr>\n",
       "      <th>SUN</th>\n",
       "      <td>1.725000</td>\n",
       "      <td>80</td>\n",
       "    </tr>\n",
       "    <tr>\n",
       "      <th>ITO</th>\n",
       "      <td>1.686957</td>\n",
       "      <td>460</td>\n",
       "    </tr>\n",
       "    <tr>\n",
       "      <th>PSC</th>\n",
       "      <td>1.677215</td>\n",
       "      <td>158</td>\n",
       "    </tr>\n",
       "    <tr>\n",
       "      <th>HLN</th>\n",
       "      <td>1.504762</td>\n",
       "      <td>105</td>\n",
       "    </tr>\n",
       "    <tr>\n",
       "      <th>SCC</th>\n",
       "      <td>1.388060</td>\n",
       "      <td>67</td>\n",
       "    </tr>\n",
       "    <tr>\n",
       "      <th>FCA</th>\n",
       "      <td>1.025000</td>\n",
       "      <td>120</td>\n",
       "    </tr>\n",
       "    <tr>\n",
       "      <th>RKS</th>\n",
       "      <td>0.962963</td>\n",
       "      <td>54</td>\n",
       "    </tr>\n",
       "    <tr>\n",
       "      <th>LCH</th>\n",
       "      <td>0.924528</td>\n",
       "      <td>159</td>\n",
       "    </tr>\n",
       "    <tr>\n",
       "      <th>LRD</th>\n",
       "      <td>0.888235</td>\n",
       "      <td>170</td>\n",
       "    </tr>\n",
       "    <tr>\n",
       "      <th>FLG</th>\n",
       "      <td>0.786885</td>\n",
       "      <td>122</td>\n",
       "    </tr>\n",
       "    <tr>\n",
       "      <th>SGU</th>\n",
       "      <td>0.036765</td>\n",
       "      <td>136</td>\n",
       "    </tr>\n",
       "    <tr>\n",
       "      <th>MSO</th>\n",
       "      <td>-0.526786</td>\n",
       "      <td>112</td>\n",
       "    </tr>\n",
       "    <tr>\n",
       "      <th>EKO</th>\n",
       "      <td>-0.634615</td>\n",
       "      <td>52</td>\n",
       "    </tr>\n",
       "    <tr>\n",
       "      <th>FAI</th>\n",
       "      <td>-0.862319</td>\n",
       "      <td>138</td>\n",
       "    </tr>\n",
       "    <tr>\n",
       "      <th>GTF</th>\n",
       "      <td>-1.160305</td>\n",
       "      <td>131</td>\n",
       "    </tr>\n",
       "    <tr>\n",
       "      <th>GCC</th>\n",
       "      <td>-1.390244</td>\n",
       "      <td>82</td>\n",
       "    </tr>\n",
       "    <tr>\n",
       "      <th>BLI</th>\n",
       "      <td>-2.261905</td>\n",
       "      <td>84</td>\n",
       "    </tr>\n",
       "    <tr>\n",
       "      <th>BRD</th>\n",
       "      <td>-2.680851</td>\n",
       "      <td>47</td>\n",
       "    </tr>\n",
       "    <tr>\n",
       "      <th>LWS</th>\n",
       "      <td>-2.854167</td>\n",
       "      <td>48</td>\n",
       "    </tr>\n",
       "    <tr>\n",
       "      <th>IMT</th>\n",
       "      <td>-3.372549</td>\n",
       "      <td>51</td>\n",
       "    </tr>\n",
       "    <tr>\n",
       "      <th>RHI</th>\n",
       "      <td>-4.987500</td>\n",
       "      <td>80</td>\n",
       "    </tr>\n",
       "    <tr>\n",
       "      <th>WRG</th>\n",
       "      <td>-5.259259</td>\n",
       "      <td>54</td>\n",
       "    </tr>\n",
       "    <tr>\n",
       "      <th>CNY</th>\n",
       "      <td>-5.340426</td>\n",
       "      <td>47</td>\n",
       "    </tr>\n",
       "    <tr>\n",
       "      <th>PSG</th>\n",
       "      <td>-5.814815</td>\n",
       "      <td>54</td>\n",
       "    </tr>\n",
       "    <tr>\n",
       "      <th>ADQ</th>\n",
       "      <td>-6.458333</td>\n",
       "      <td>24</td>\n",
       "    </tr>\n",
       "    <tr>\n",
       "      <th>BTM</th>\n",
       "      <td>-6.500000</td>\n",
       "      <td>54</td>\n",
       "    </tr>\n",
       "    <tr>\n",
       "      <th>TWF</th>\n",
       "      <td>-7.320755</td>\n",
       "      <td>53</td>\n",
       "    </tr>\n",
       "    <tr>\n",
       "      <th>PIH</th>\n",
       "      <td>-8.519231</td>\n",
       "      <td>52</td>\n",
       "    </tr>\n",
       "    <tr>\n",
       "      <th>CDV</th>\n",
       "      <td>-11.333333</td>\n",
       "      <td>54</td>\n",
       "    </tr>\n",
       "    <tr>\n",
       "      <th>YAK</th>\n",
       "      <td>-12.254545</td>\n",
       "      <td>55</td>\n",
       "    </tr>\n",
       "  </tbody>\n",
       "</table>\n",
       "<p>315 rows × 2 columns</p>\n",
       "</div>"
      ],
      "text/plain": [
       "             mean  count\n",
       "Origin                  \n",
       "TTN     49.747423    194\n",
       "ILG     40.789474     19\n",
       "UST     39.000000     11\n",
       "SMX     32.327273     55\n",
       "JLN     31.120000     50\n",
       "PLN     30.500000     46\n",
       "MKG     27.500000     46\n",
       "SCE     26.888889     54\n",
       "SUX     26.772727     44\n",
       "OTH     26.071429     14\n",
       "SWF     26.060606     66\n",
       "PBG     25.357143     28\n",
       "BQN     25.231707     82\n",
       "SBN     24.646900    371\n",
       "HPN     24.374798    619\n",
       "GRI     24.083333     48\n",
       "BGR     23.421053     19\n",
       "CRW     23.337662    154\n",
       "DBQ     22.904762     63\n",
       "COU     22.303030     99\n",
       "JFK     22.301747   7271\n",
       "DRO     21.953333    150\n",
       "LGA     21.899658   7893\n",
       "ORD     21.832011  20162\n",
       "CMI     21.279503    161\n",
       "SGF     21.028630    489\n",
       "INL     20.958333     48\n",
       "ALO     20.955556     45\n",
       "BOS     20.924010   7251\n",
       "PAH     20.872340     47\n",
       "...           ...    ...\n",
       "SUN      1.725000     80\n",
       "ITO      1.686957    460\n",
       "PSC      1.677215    158\n",
       "HLN      1.504762    105\n",
       "SCC      1.388060     67\n",
       "FCA      1.025000    120\n",
       "RKS      0.962963     54\n",
       "LCH      0.924528    159\n",
       "LRD      0.888235    170\n",
       "FLG      0.786885    122\n",
       "SGU      0.036765    136\n",
       "MSO     -0.526786    112\n",
       "EKO     -0.634615     52\n",
       "FAI     -0.862319    138\n",
       "GTF     -1.160305    131\n",
       "GCC     -1.390244     82\n",
       "BLI     -2.261905     84\n",
       "BRD     -2.680851     47\n",
       "LWS     -2.854167     48\n",
       "IMT     -3.372549     51\n",
       "RHI     -4.987500     80\n",
       "WRG     -5.259259     54\n",
       "CNY     -5.340426     47\n",
       "PSG     -5.814815     54\n",
       "ADQ     -6.458333     24\n",
       "BTM     -6.500000     54\n",
       "TWF     -7.320755     53\n",
       "PIH     -8.519231     52\n",
       "CDV    -11.333333     54\n",
       "YAK    -12.254545     55\n",
       "\n",
       "[315 rows x 2 columns]"
      ]
     },
     "execution_count": 232,
     "metadata": {},
     "output_type": "execute_result"
    }
   ],
   "source": [
    "#delays_by_plane.sort_values('mean', ascending=False)\n",
    "delays_by_origin.sort_values('mean', ascending=False)"
   ]
  },
  {
   "cell_type": "markdown",
   "metadata": {},
   "source": [
    "Awesome! now, let's look at the average delay of the planes with some departures (let's say, at least 15)"
   ]
  },
  {
   "cell_type": "code",
   "execution_count": 233,
   "metadata": {},
   "outputs": [
    {
     "data": {
      "text/html": [
       "<div>\n",
       "<style scoped>\n",
       "    .dataframe tbody tr th:only-of-type {\n",
       "        vertical-align: middle;\n",
       "    }\n",
       "\n",
       "    .dataframe tbody tr th {\n",
       "        vertical-align: top;\n",
       "    }\n",
       "\n",
       "    .dataframe thead th {\n",
       "        text-align: right;\n",
       "    }\n",
       "</style>\n",
       "<table border=\"1\" class=\"dataframe\">\n",
       "  <thead>\n",
       "    <tr style=\"text-align: right;\">\n",
       "      <th></th>\n",
       "      <th>mean</th>\n",
       "      <th>count</th>\n",
       "    </tr>\n",
       "    <tr>\n",
       "      <th>Origin</th>\n",
       "      <th></th>\n",
       "      <th></th>\n",
       "    </tr>\n",
       "  </thead>\n",
       "  <tbody>\n",
       "    <tr>\n",
       "      <th>ABE</th>\n",
       "      <td>16.677632</td>\n",
       "      <td>152</td>\n",
       "    </tr>\n",
       "    <tr>\n",
       "      <th>ABI</th>\n",
       "      <td>5.222826</td>\n",
       "      <td>184</td>\n",
       "    </tr>\n",
       "    <tr>\n",
       "      <th>ABQ</th>\n",
       "      <td>9.294551</td>\n",
       "      <td>1358</td>\n",
       "    </tr>\n",
       "    <tr>\n",
       "      <th>ABR</th>\n",
       "      <td>16.267857</td>\n",
       "      <td>56</td>\n",
       "    </tr>\n",
       "    <tr>\n",
       "      <th>ABY</th>\n",
       "      <td>9.630137</td>\n",
       "      <td>73</td>\n",
       "    </tr>\n",
       "    <tr>\n",
       "      <th>ACT</th>\n",
       "      <td>11.648649</td>\n",
       "      <td>111</td>\n",
       "    </tr>\n",
       "    <tr>\n",
       "      <th>ACV</th>\n",
       "      <td>14.368000</td>\n",
       "      <td>125</td>\n",
       "    </tr>\n",
       "    <tr>\n",
       "      <th>ACY</th>\n",
       "      <td>5.065789</td>\n",
       "      <td>304</td>\n",
       "    </tr>\n",
       "    <tr>\n",
       "      <th>ADQ</th>\n",
       "      <td>-6.458333</td>\n",
       "      <td>24</td>\n",
       "    </tr>\n",
       "    <tr>\n",
       "      <th>AEX</th>\n",
       "      <td>8.004149</td>\n",
       "      <td>241</td>\n",
       "    </tr>\n",
       "    <tr>\n",
       "      <th>AGS</th>\n",
       "      <td>11.431034</td>\n",
       "      <td>174</td>\n",
       "    </tr>\n",
       "    <tr>\n",
       "      <th>ALB</th>\n",
       "      <td>9.821497</td>\n",
       "      <td>521</td>\n",
       "    </tr>\n",
       "    <tr>\n",
       "      <th>ALO</th>\n",
       "      <td>20.955556</td>\n",
       "      <td>45</td>\n",
       "    </tr>\n",
       "    <tr>\n",
       "      <th>AMA</th>\n",
       "      <td>7.650831</td>\n",
       "      <td>421</td>\n",
       "    </tr>\n",
       "    <tr>\n",
       "      <th>ANC</th>\n",
       "      <td>2.168972</td>\n",
       "      <td>1012</td>\n",
       "    </tr>\n",
       "    <tr>\n",
       "      <th>APN</th>\n",
       "      <td>14.093023</td>\n",
       "      <td>43</td>\n",
       "    </tr>\n",
       "    <tr>\n",
       "      <th>ASE</th>\n",
       "      <td>15.752747</td>\n",
       "      <td>546</td>\n",
       "    </tr>\n",
       "    <tr>\n",
       "      <th>ATL</th>\n",
       "      <td>9.936441</td>\n",
       "      <td>26448</td>\n",
       "    </tr>\n",
       "    <tr>\n",
       "      <th>ATW</th>\n",
       "      <td>10.160000</td>\n",
       "      <td>200</td>\n",
       "    </tr>\n",
       "    <tr>\n",
       "      <th>AUS</th>\n",
       "      <td>9.395777</td>\n",
       "      <td>2984</td>\n",
       "    </tr>\n",
       "    <tr>\n",
       "      <th>AVL</th>\n",
       "      <td>17.442529</td>\n",
       "      <td>174</td>\n",
       "    </tr>\n",
       "    <tr>\n",
       "      <th>AVP</th>\n",
       "      <td>16.452381</td>\n",
       "      <td>84</td>\n",
       "    </tr>\n",
       "    <tr>\n",
       "      <th>AZO</th>\n",
       "      <td>17.744186</td>\n",
       "      <td>129</td>\n",
       "    </tr>\n",
       "    <tr>\n",
       "      <th>BDL</th>\n",
       "      <td>12.153214</td>\n",
       "      <td>1338</td>\n",
       "    </tr>\n",
       "    <tr>\n",
       "      <th>BET</th>\n",
       "      <td>4.360000</td>\n",
       "      <td>75</td>\n",
       "    </tr>\n",
       "    <tr>\n",
       "      <th>BFL</th>\n",
       "      <td>6.480392</td>\n",
       "      <td>204</td>\n",
       "    </tr>\n",
       "    <tr>\n",
       "      <th>BGM</th>\n",
       "      <td>17.361111</td>\n",
       "      <td>36</td>\n",
       "    </tr>\n",
       "    <tr>\n",
       "      <th>BGR</th>\n",
       "      <td>23.421053</td>\n",
       "      <td>19</td>\n",
       "    </tr>\n",
       "    <tr>\n",
       "      <th>BHM</th>\n",
       "      <td>9.812377</td>\n",
       "      <td>1018</td>\n",
       "    </tr>\n",
       "    <tr>\n",
       "      <th>BIL</th>\n",
       "      <td>5.143541</td>\n",
       "      <td>209</td>\n",
       "    </tr>\n",
       "    <tr>\n",
       "      <th>...</th>\n",
       "      <td>...</td>\n",
       "      <td>...</td>\n",
       "    </tr>\n",
       "    <tr>\n",
       "      <th>SPI</th>\n",
       "      <td>11.616071</td>\n",
       "      <td>112</td>\n",
       "    </tr>\n",
       "    <tr>\n",
       "      <th>SPS</th>\n",
       "      <td>17.068182</td>\n",
       "      <td>88</td>\n",
       "    </tr>\n",
       "    <tr>\n",
       "      <th>SRQ</th>\n",
       "      <td>15.839117</td>\n",
       "      <td>317</td>\n",
       "    </tr>\n",
       "    <tr>\n",
       "      <th>STC</th>\n",
       "      <td>19.130435</td>\n",
       "      <td>23</td>\n",
       "    </tr>\n",
       "    <tr>\n",
       "      <th>STL</th>\n",
       "      <td>10.599654</td>\n",
       "      <td>3467</td>\n",
       "    </tr>\n",
       "    <tr>\n",
       "      <th>STT</th>\n",
       "      <td>15.885167</td>\n",
       "      <td>418</td>\n",
       "    </tr>\n",
       "    <tr>\n",
       "      <th>STX</th>\n",
       "      <td>14.777778</td>\n",
       "      <td>81</td>\n",
       "    </tr>\n",
       "    <tr>\n",
       "      <th>SUN</th>\n",
       "      <td>1.725000</td>\n",
       "      <td>80</td>\n",
       "    </tr>\n",
       "    <tr>\n",
       "      <th>SUX</th>\n",
       "      <td>26.772727</td>\n",
       "      <td>44</td>\n",
       "    </tr>\n",
       "    <tr>\n",
       "      <th>SWF</th>\n",
       "      <td>26.060606</td>\n",
       "      <td>66</td>\n",
       "    </tr>\n",
       "    <tr>\n",
       "      <th>SYR</th>\n",
       "      <td>14.757106</td>\n",
       "      <td>387</td>\n",
       "    </tr>\n",
       "    <tr>\n",
       "      <th>TLH</th>\n",
       "      <td>12.156028</td>\n",
       "      <td>282</td>\n",
       "    </tr>\n",
       "    <tr>\n",
       "      <th>TOL</th>\n",
       "      <td>15.373134</td>\n",
       "      <td>67</td>\n",
       "    </tr>\n",
       "    <tr>\n",
       "      <th>TPA</th>\n",
       "      <td>10.728542</td>\n",
       "      <td>5301</td>\n",
       "    </tr>\n",
       "    <tr>\n",
       "      <th>TRI</th>\n",
       "      <td>6.811189</td>\n",
       "      <td>143</td>\n",
       "    </tr>\n",
       "    <tr>\n",
       "      <th>TTN</th>\n",
       "      <td>49.747423</td>\n",
       "      <td>194</td>\n",
       "    </tr>\n",
       "    <tr>\n",
       "      <th>TUL</th>\n",
       "      <td>7.436632</td>\n",
       "      <td>1152</td>\n",
       "    </tr>\n",
       "    <tr>\n",
       "      <th>TUS</th>\n",
       "      <td>5.819133</td>\n",
       "      <td>1338</td>\n",
       "    </tr>\n",
       "    <tr>\n",
       "      <th>TVC</th>\n",
       "      <td>18.840909</td>\n",
       "      <td>176</td>\n",
       "    </tr>\n",
       "    <tr>\n",
       "      <th>TWF</th>\n",
       "      <td>-7.320755</td>\n",
       "      <td>53</td>\n",
       "    </tr>\n",
       "    <tr>\n",
       "      <th>TXK</th>\n",
       "      <td>1.984127</td>\n",
       "      <td>63</td>\n",
       "    </tr>\n",
       "    <tr>\n",
       "      <th>TYR</th>\n",
       "      <td>6.088608</td>\n",
       "      <td>158</td>\n",
       "    </tr>\n",
       "    <tr>\n",
       "      <th>TYS</th>\n",
       "      <td>17.085417</td>\n",
       "      <td>480</td>\n",
       "    </tr>\n",
       "    <tr>\n",
       "      <th>VEL</th>\n",
       "      <td>2.333333</td>\n",
       "      <td>48</td>\n",
       "    </tr>\n",
       "    <tr>\n",
       "      <th>VLD</th>\n",
       "      <td>7.240000</td>\n",
       "      <td>75</td>\n",
       "    </tr>\n",
       "    <tr>\n",
       "      <th>VPS</th>\n",
       "      <td>11.883436</td>\n",
       "      <td>326</td>\n",
       "    </tr>\n",
       "    <tr>\n",
       "      <th>WRG</th>\n",
       "      <td>-5.259259</td>\n",
       "      <td>54</td>\n",
       "    </tr>\n",
       "    <tr>\n",
       "      <th>XNA</th>\n",
       "      <td>19.446559</td>\n",
       "      <td>683</td>\n",
       "    </tr>\n",
       "    <tr>\n",
       "      <th>YAK</th>\n",
       "      <td>-12.254545</td>\n",
       "      <td>55</td>\n",
       "    </tr>\n",
       "    <tr>\n",
       "      <th>YUM</th>\n",
       "      <td>5.662338</td>\n",
       "      <td>154</td>\n",
       "    </tr>\n",
       "  </tbody>\n",
       "</table>\n",
       "<p>310 rows × 2 columns</p>\n",
       "</div>"
      ],
      "text/plain": [
       "             mean  count\n",
       "Origin                  \n",
       "ABE     16.677632    152\n",
       "ABI      5.222826    184\n",
       "ABQ      9.294551   1358\n",
       "ABR     16.267857     56\n",
       "ABY      9.630137     73\n",
       "ACT     11.648649    111\n",
       "ACV     14.368000    125\n",
       "ACY      5.065789    304\n",
       "ADQ     -6.458333     24\n",
       "AEX      8.004149    241\n",
       "AGS     11.431034    174\n",
       "ALB      9.821497    521\n",
       "ALO     20.955556     45\n",
       "AMA      7.650831    421\n",
       "ANC      2.168972   1012\n",
       "APN     14.093023     43\n",
       "ASE     15.752747    546\n",
       "ATL      9.936441  26448\n",
       "ATW     10.160000    200\n",
       "AUS      9.395777   2984\n",
       "AVL     17.442529    174\n",
       "AVP     16.452381     84\n",
       "AZO     17.744186    129\n",
       "BDL     12.153214   1338\n",
       "BET      4.360000     75\n",
       "BFL      6.480392    204\n",
       "BGM     17.361111     36\n",
       "BGR     23.421053     19\n",
       "BHM      9.812377   1018\n",
       "BIL      5.143541    209\n",
       "...           ...    ...\n",
       "SPI     11.616071    112\n",
       "SPS     17.068182     88\n",
       "SRQ     15.839117    317\n",
       "STC     19.130435     23\n",
       "STL     10.599654   3467\n",
       "STT     15.885167    418\n",
       "STX     14.777778     81\n",
       "SUN      1.725000     80\n",
       "SUX     26.772727     44\n",
       "SWF     26.060606     66\n",
       "SYR     14.757106    387\n",
       "TLH     12.156028    282\n",
       "TOL     15.373134     67\n",
       "TPA     10.728542   5301\n",
       "TRI      6.811189    143\n",
       "TTN     49.747423    194\n",
       "TUL      7.436632   1152\n",
       "TUS      5.819133   1338\n",
       "TVC     18.840909    176\n",
       "TWF     -7.320755     53\n",
       "TXK      1.984127     63\n",
       "TYR      6.088608    158\n",
       "TYS     17.085417    480\n",
       "VEL      2.333333     48\n",
       "VLD      7.240000     75\n",
       "VPS     11.883436    326\n",
       "WRG     -5.259259     54\n",
       "XNA     19.446559    683\n",
       "YAK    -12.254545     55\n",
       "YUM      5.662338    154\n",
       "\n",
       "[310 rows x 2 columns]"
      ]
     },
     "execution_count": 233,
     "metadata": {},
     "output_type": "execute_result"
    }
   ],
   "source": [
    "delays_by_origin[delays_by_origin[\"count\"]> 14]"
   ]
  },
  {
   "cell_type": "code",
   "execution_count": null,
   "metadata": {},
   "outputs": [],
   "source": []
  },
  {
   "cell_type": "code",
   "execution_count": null,
   "metadata": {},
   "outputs": [],
   "source": []
  },
  {
   "cell_type": "code",
   "execution_count": null,
   "metadata": {},
   "outputs": [],
   "source": []
  },
  {
   "cell_type": "code",
   "execution_count": 234,
   "metadata": {
    "scrolled": true
   },
   "outputs": [
    {
     "data": {
      "text/plain": [
       "array(['F9', 'MQ', 'OO'], dtype=object)"
      ]
     },
     "execution_count": 234,
     "metadata": {},
     "output_type": "execute_result"
    }
   ],
   "source": [
    "consistently_delayed = delays_by_origin[delays_by_origin['count'] > 14]\n",
    "highly_delayed = consistently_delayed.sort_values('mean', ascending=False).head(100)\n",
    "\n",
    "# What companies run the rank 5/10 most delayed?\n",
    "df2.join(highly_delayed.head(5), on='Origin', how='inner')['Carrier'].unique()"
   ]
  },
  {
   "cell_type": "markdown",
   "metadata": {},
   "source": [
    "#### Exercise: \n",
    "\n",
    "Show cities by descending number of airports"
   ]
  },
  {
   "cell_type": "code",
   "execution_count": 237,
   "metadata": {},
   "outputs": [
    {
     "data": {
      "text/plain": [
       "OriginCityName\n",
       "Aberdeen, SD                         56\n",
       "Abilene, TX                         215\n",
       "Adak Island, AK                       8\n",
       "Aguadilla, PR                        84\n",
       "Akron, OH                           514\n",
       "Albany, GA                           75\n",
       "Albany, NY                          549\n",
       "Albuquerque, NM                    1410\n",
       "Alexandria, LA                      262\n",
       "Allentown/Bethlehem/Easton, PA      163\n",
       "Alpena, MI                           48\n",
       "Amarillo, TX                        465\n",
       "Anchorage, AK                      1029\n",
       "Appleton, WI                        209\n",
       "Arcata/Eureka, CA                   131\n",
       "Asheville, NC                       182\n",
       "Aspen, CO                           629\n",
       "Atlanta, GA                       27366\n",
       "Atlantic City, NJ                   308\n",
       "Augusta, GA                         177\n",
       "Austin, TX                         3061\n",
       "Bakersfield, CA                     206\n",
       "Baltimore, MD                      6236\n",
       "Bangor, ME                           21\n",
       "Barrow, AK                           72\n",
       "Baton Rouge, LA                     620\n",
       "Beaumont/Port Arthur, TX             81\n",
       "Bellingham, WA                       84\n",
       "Bemidji, MN                          56\n",
       "Bend/Redmond, OR                    152\n",
       "                                  ...  \n",
       "State College, PA                    59\n",
       "Sun Valley/Hailey/Ketchum, ID        88\n",
       "Syracuse, NY                        423\n",
       "Tallahassee, FL                     294\n",
       "Tampa, FL                          5455\n",
       "Texarkana, AR                        80\n",
       "Toledo, OH                           80\n",
       "Traverse City, MI                   194\n",
       "Trenton, NJ                         206\n",
       "Tucson, AZ                         1363\n",
       "Tulsa, OK                          1192\n",
       "Twin Falls, ID                       53\n",
       "Tyler, TX                           181\n",
       "Valdosta, GA                         78\n",
       "Valparaiso, FL                      346\n",
       "Vernal, UT                           48\n",
       "Waco, TX                            134\n",
       "Washington, DC                     9230\n",
       "Waterloo, IA                         52\n",
       "West Palm Beach/Palm Beach, FL     2261\n",
       "White Plains, NY                    682\n",
       "Wichita Falls, TX                   103\n",
       "Wichita, KS                         634\n",
       "Williston, ND                       235\n",
       "Wilmington, DE                       21\n",
       "Wilmington, NC                      130\n",
       "Worcester, MA                        54\n",
       "Wrangell, AK                         56\n",
       "Yakutat, AK                          56\n",
       "Yuma, AZ                            156\n",
       "Name: Origin, Length: 311, dtype: int64"
      ]
     },
     "execution_count": 237,
     "metadata": {},
     "output_type": "execute_result"
    }
   ],
   "source": [
    "df2.groupby(\"OriginCityName\")[\"Origin\"].size()"
   ]
  },
  {
   "cell_type": "code",
   "execution_count": 236,
   "metadata": {},
   "outputs": [
    {
     "data": {
      "text/plain": [
       "OriginCityName\n",
       "Aberdeen, SD                           [ABR]\n",
       "Abilene, TX                            [ABI]\n",
       "Adak Island, AK                        [ADK]\n",
       "Aguadilla, PR                          [BQN]\n",
       "Akron, OH                              [CAK]\n",
       "Albany, GA                             [ABY]\n",
       "Albany, NY                             [ALB]\n",
       "Albuquerque, NM                        [ABQ]\n",
       "Alexandria, LA                         [AEX]\n",
       "Allentown/Bethlehem/Easton, PA         [ABE]\n",
       "Alpena, MI                             [APN]\n",
       "Amarillo, TX                           [AMA]\n",
       "Anchorage, AK                          [ANC]\n",
       "Appleton, WI                           [ATW]\n",
       "Arcata/Eureka, CA                      [ACV]\n",
       "Asheville, NC                          [AVL]\n",
       "Aspen, CO                              [ASE]\n",
       "Atlanta, GA                            [ATL]\n",
       "Atlantic City, NJ                      [ACY]\n",
       "Augusta, GA                            [AGS]\n",
       "Austin, TX                             [AUS]\n",
       "Bakersfield, CA                        [BFL]\n",
       "Baltimore, MD                          [BWI]\n",
       "Bangor, ME                             [BGR]\n",
       "Barrow, AK                             [BRW]\n",
       "Baton Rouge, LA                        [BTR]\n",
       "Beaumont/Port Arthur, TX               [BPT]\n",
       "Bellingham, WA                         [BLI]\n",
       "Bemidji, MN                            [BJI]\n",
       "Bend/Redmond, OR                       [RDM]\n",
       "                                     ...    \n",
       "State College, PA                      [SCE]\n",
       "Sun Valley/Hailey/Ketchum, ID          [SUN]\n",
       "Syracuse, NY                           [SYR]\n",
       "Tallahassee, FL                        [TLH]\n",
       "Tampa, FL                              [TPA]\n",
       "Texarkana, AR                          [TXK]\n",
       "Toledo, OH                             [TOL]\n",
       "Traverse City, MI                      [TVC]\n",
       "Trenton, NJ                            [TTN]\n",
       "Tucson, AZ                             [TUS]\n",
       "Tulsa, OK                              [TUL]\n",
       "Twin Falls, ID                         [TWF]\n",
       "Tyler, TX                              [TYR]\n",
       "Valdosta, GA                           [VLD]\n",
       "Valparaiso, FL                         [VPS]\n",
       "Vernal, UT                             [VEL]\n",
       "Waco, TX                               [ACT]\n",
       "Washington, DC                    [DCA, IAD]\n",
       "Waterloo, IA                           [ALO]\n",
       "West Palm Beach/Palm Beach, FL         [PBI]\n",
       "White Plains, NY                       [HPN]\n",
       "Wichita Falls, TX                      [SPS]\n",
       "Wichita, KS                            [ICT]\n",
       "Williston, ND                          [ISN]\n",
       "Wilmington, DE                         [ILG]\n",
       "Wilmington, NC                         [ILM]\n",
       "Worcester, MA                          [ORH]\n",
       "Wrangell, AK                           [WRG]\n",
       "Yakutat, AK                            [YAK]\n",
       "Yuma, AZ                               [YUM]\n",
       "Name: Origin, Length: 311, dtype: object"
      ]
     },
     "execution_count": 236,
     "metadata": {},
     "output_type": "execute_result"
    }
   ],
   "source": [
    "#solo se queda sin las repeticiones , unique\n",
    "df2.groupby(\"OriginCityName\")[\"Origin\"].unique()"
   ]
  },
  {
   "cell_type": "code",
   "execution_count": null,
   "metadata": {},
   "outputs": [],
   "source": []
  },
  {
   "cell_type": "code",
   "execution_count": null,
   "metadata": {},
   "outputs": [],
   "source": []
  },
  {
   "cell_type": "code",
   "execution_count": 239,
   "metadata": {
    "scrolled": false
   },
   "outputs": [
    {
     "data": {
      "text/plain": [
       "OriginCityName\n",
       "Chicago, IL       2\n",
       "Houston, TX       2\n",
       "New York, NY      2\n",
       "Washington, DC    2\n",
       "Fargo, ND         1\n",
       "Name: Origin, dtype: int64"
      ]
     },
     "execution_count": 239,
     "metadata": {},
     "output_type": "execute_result"
    }
   ],
   "source": [
    "#saber cuantos aeropuertos hay por ciudad\n",
    "airports_by_city = df2.groupby('OriginCityName')['Origin'].unique()\n",
    "#We have a list of Airport code for each city now.\n",
    "airports_by_city.map(lambda x: len(x)).sort_values(ascending=False).head()"
   ]
  },
  {
   "cell_type": "raw",
   "metadata": {},
   "source": [
    "print(df2.groupby('OriginCityName')['Origin'].unique())"
   ]
  },
  {
   "cell_type": "markdown",
   "metadata": {},
   "source": [
    "## Plotting\n",
    "\n",
    "There are several ways in which we could go about plotting this dataset in order to get acquainted with it. "
   ]
  },
  {
   "cell_type": "markdown",
   "metadata": {},
   "source": [
    "For example, do the delays have a relationship with the number of departures a plane does?"
   ]
  },
  {
   "cell_type": "markdown",
   "metadata": {},
   "source": [
    "#### Exercise\n",
    "\n",
    "Do a scatter plot with matplotlib. Check the documentation"
   ]
  },
  {
   "cell_type": "code",
   "execution_count": null,
   "metadata": {},
   "outputs": [],
   "source": [
    "import matplotlib.pyplot as plt \n",
    "%matplotlib inline\n",
    "\n",
    "ax = delays_by_origin.plot.scatter('mean', 'count', alpha=.2)\n",
    "#ax.set_xlim(-20,240)\n",
    "#ax.set_ylim(-10,240)"
   ]
  },
  {
   "cell_type": "markdown",
   "metadata": {},
   "source": [
    "#### Exercise:\n",
    "\n",
    "Plot the distribution of delays as a histogram, both with a linear and a logarithmic scale"
   ]
  },
  {
   "cell_type": "code",
   "execution_count": null,
   "metadata": {},
   "outputs": [],
   "source": [
    "# Little trick: Just by importing seaborn, it will change \n",
    "# matplotlib defaults and make your graphs much prettier.!!\n",
    "\n",
    "import seaborn as sns\n",
    "\n",
    "ax = df['DepDelay'].hist(bins=500)\n",
    "ax.set_xlim(-100, 500)\n",
    "\n",
    "plt.title('Number of flights per delay bin')"
   ]
  },
  {
   "cell_type": "code",
   "execution_count": null,
   "metadata": {},
   "outputs": [],
   "source": [
    "# We can make any axis logarithmic in order to see better a very unequal distribution\n",
    "\n",
    "ax = df['DepDelay'].hist(bins=500)\n",
    "ax.set_xlim(-100, 500)\n",
    "plt.title('Num flights per delay bin')\n",
    "\n",
    "plt.yscale('log')\n"
   ]
  },
  {
   "cell_type": "markdown",
   "metadata": {},
   "source": [
    "### Another question:\n",
    "\n",
    "how do the delays stack over the course of the day? We are going to look at it by plotting the distribution of delays for each hour of the day. The very best way to compare distributions side by side is a boxplot, so we'll use that."
   ]
  },
  {
   "cell_type": "code",
   "execution_count": null,
   "metadata": {},
   "outputs": [],
   "source": [
    "help(plt.boxplot)"
   ]
  },
  {
   "cell_type": "markdown",
   "metadata": {},
   "source": [
    "We need to provide `plt.boxplot()` with a sequence that contains 24 elements. Each of those will be a sequence containing every individual delay for one hour of the day. We'll need, therefore, to extract hours of the day for each departure and group based on that."
   ]
  },
  {
   "cell_type": "code",
   "execution_count": null,
   "metadata": {},
   "outputs": [],
   "source": [
    "# Now, we can iterate over the groups and extract the delays. \n",
    "# We keep them in two different vectors because that is what boxplot wants\n",
    "\n",
    "df2['DepHour'] =  df2['DepDateTime'].map(lambda x: x.hour)\n",
    "\n",
    "by_hour = df2.groupby('DepHour')\n",
    "\n",
    "hours = []\n",
    "groups = []\n",
    "\n",
    "for h, g in by_hour:\n",
    "    hours.append(\"%02d\" % h)\n",
    "    groups.append(g['DepDelay'])"
   ]
  },
  {
   "cell_type": "code",
   "execution_count": null,
   "metadata": {},
   "outputs": [],
   "source": [
    "# We have create a groupby object. That object behaves like a list.\n",
    "# Each element of that list is a (key, dataframe) tuple.\n",
    "# You can think of the key as the group's name. The dataframe\n",
    "# contains all the rows in the original dataframe that correspond \n",
    "# to that key: Here, group '0.0' contains all rows from flights \n",
    "# that departed on hour 0.\n",
    "\n",
    "print(type(by_hour))\n",
    "print(list(by_hour))\n",
    "print(list(by_hour)[0], list(by_hour)[0][1].shape)"
   ]
  },
  {
   "cell_type": "markdown",
   "metadata": {},
   "source": [
    "### Everything looks ok! let's plot this thing!"
   ]
  },
  {
   "cell_type": "code",
   "execution_count": null,
   "metadata": {},
   "outputs": [],
   "source": [
    "fig, ax1 = plt.subplots(figsize=(10, 6))\n",
    "\n",
    "ax1.set_ylim(-20, 240)\n",
    "\n",
    "bp = plt.boxplot(groups)\n",
    "\n",
    "labels = plt.setp(ax1, xticklabels=hours)"
   ]
  },
  {
   "cell_type": "code",
   "execution_count": null,
   "metadata": {},
   "outputs": [],
   "source": []
  }
 ],
 "metadata": {
  "kernelspec": {
   "display_name": "Python 3",
   "language": "python",
   "name": "python3"
  },
  "language_info": {
   "codemirror_mode": {
    "name": "ipython",
    "version": 3
   },
   "file_extension": ".py",
   "mimetype": "text/x-python",
   "name": "python",
   "nbconvert_exporter": "python",
   "pygments_lexer": "ipython3",
   "version": "3.6.4"
  }
 },
 "nbformat": 4,
 "nbformat_minor": 1
}
